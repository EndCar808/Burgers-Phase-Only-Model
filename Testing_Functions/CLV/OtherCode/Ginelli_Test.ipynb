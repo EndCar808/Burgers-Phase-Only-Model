{
 "cells": [
  {
   "cell_type": "markdown",
   "metadata": {},
   "source": [
    "# Ginelli Implementation Verification\n",
    "\n",
    "### In this Notebook we run the Ginelli Algorithm for the L63 system. We have verified that the LE Spectrum is correct."
   ]
  },
  {
   "cell_type": "code",
   "execution_count": 2,
   "metadata": {},
   "outputs": [
    {
     "ename": "ModuleNotFoundError",
     "evalue": "No module named 'l63newadaptive'",
     "output_type": "error",
     "traceback": [
      "\u001b[0;31m---------------------------------------------------------------------------\u001b[0m",
      "\u001b[0;31mModuleNotFoundError\u001b[0m                       Traceback (most recent call last)",
      "\u001b[0;32m<ipython-input-2-4b3262eebb2b>\u001b[0m in \u001b[0;36m<module>\u001b[0;34m\u001b[0m\n\u001b[1;32m     10\u001b[0m \u001b[0;32mimport\u001b[0m \u001b[0mrandom\u001b[0m\u001b[0;34m\u001b[0m\u001b[0;34m\u001b[0m\u001b[0m\n\u001b[1;32m     11\u001b[0m \u001b[0;34m\u001b[0m\u001b[0m\n\u001b[0;32m---> 12\u001b[0;31m \u001b[0;32mimport\u001b[0m \u001b[0ml63newadaptive\u001b[0m \u001b[0;32mas\u001b[0m \u001b[0ml63\u001b[0m\u001b[0;34m\u001b[0m\u001b[0;34m\u001b[0m\u001b[0m\n\u001b[0m\u001b[1;32m     13\u001b[0m \u001b[0;32mfrom\u001b[0m \u001b[0ml63newadaptive\u001b[0m \u001b[0;32mimport\u001b[0m \u001b[0mmake_observations\u001b[0m\u001b[0;34m\u001b[0m\u001b[0;34m\u001b[0m\u001b[0m\n\u001b[1;32m     14\u001b[0m \u001b[0;34m\u001b[0m\u001b[0m\n",
      "\u001b[0;31mModuleNotFoundError\u001b[0m: No module named 'l63newadaptive'"
     ]
    }
   ],
   "source": [
    "# -----------------------------------------\n",
    "# Imports\n",
    "# -----------------------------------------\n",
    "import numpy as np\n",
    "import pickle\n",
    "import time as tm\n",
    "import xarray as xr\n",
    "import os\n",
    "import matplotlib.pyplot as plt\n",
    "import random\n",
    "\n",
    "import l63newadaptive as l63\n",
    "from l63newadaptive import make_observations\n",
    "\n",
    "# Ginelli Imports\n",
    "import ginelli_utilities as utilities\n",
    "from ginelli_observers import *\n",
    "from ginelli_plot import *"
   ]
  },
  {
   "cell_type": "code",
   "execution_count": 3,
   "metadata": {},
   "outputs": [
    {
     "ename": "NameError",
     "evalue": "name 'l63' is not defined",
     "output_type": "error",
     "traceback": [
      "\u001b[0;31m---------------------------------------------------------------------------\u001b[0m",
      "\u001b[0;31mNameError\u001b[0m                                 Traceback (most recent call last)",
      "\u001b[0;32m<ipython-input-3-9b69bfb0a3ce>\u001b[0m in \u001b[0;36m<module>\u001b[0;34m\u001b[0m\n\u001b[1;32m      9\u001b[0m \u001b[0;34m\u001b[0m\u001b[0m\n\u001b[1;32m     10\u001b[0m \u001b[0;31m# Integrator\u001b[0m\u001b[0;34m\u001b[0m\u001b[0;34m\u001b[0m\u001b[0;34m\u001b[0m\u001b[0m\n\u001b[0;32m---> 11\u001b[0;31m \u001b[0mrunner\u001b[0m \u001b[0;34m=\u001b[0m \u001b[0ml63\u001b[0m\u001b[0;34m.\u001b[0m\u001b[0mIntegrator\u001b[0m\u001b[0;34m(\u001b[0m\u001b[0;34m)\u001b[0m\u001b[0;34m\u001b[0m\u001b[0;34m\u001b[0m\u001b[0m\n\u001b[0m\u001b[1;32m     12\u001b[0m \u001b[0mtangent_runner\u001b[0m \u001b[0;34m=\u001b[0m \u001b[0ml63\u001b[0m\u001b[0;34m.\u001b[0m\u001b[0mTangentIntegrator\u001b[0m\u001b[0;34m(\u001b[0m\u001b[0;34m)\u001b[0m\u001b[0;34m\u001b[0m\u001b[0;34m\u001b[0m\u001b[0m\n\u001b[1;32m     13\u001b[0m \u001b[0mginelli_runner\u001b[0m \u001b[0;34m=\u001b[0m \u001b[0mutilities\u001b[0m\u001b[0;34m.\u001b[0m\u001b[0mForward\u001b[0m\u001b[0;34m(\u001b[0m\u001b[0mtangent_runner\u001b[0m\u001b[0;34m,\u001b[0m \u001b[0mtau\u001b[0m\u001b[0;34m)\u001b[0m\u001b[0;34m\u001b[0m\u001b[0;34m\u001b[0m\u001b[0m\n",
      "\u001b[0;31mNameError\u001b[0m: name 'l63' is not defined"
     ]
    }
   ],
   "source": [
    "dump_size = 1000 # How many observations before output\n",
    "\n",
    "# Time Parameter Choices\n",
    "tau = 0.01 # tau & transient feed in to the integrator\n",
    "transient = 1000\n",
    "ka = 2500 # BLV convergence\n",
    "kb = 10000 # Number of observations\n",
    "kc = 2500 # CLV convergence\n",
    "\n",
    "# Integrator\n",
    "runner = l63.Integrator()\n",
    "tangent_runner = l63.TangentIntegrator()\n",
    "ginelli_runner = utilities.Forward(tangent_runner, tau)\n",
    "\n",
    "# Observables\n",
    "Rlooker = RMatrixObserver(ginelli_runner)\n",
    "BLVlooker = BLVMatrixObserver(ginelli_runner)\n",
    "TrajectoryLooker = L63TrajectoryObserver(ginelli_runner)\n",
    "\n",
    "# Timing the algorithm\n",
    "timings = {}\n",
    "start = tm.time()\n",
    "\n",
    "# Making Output Storage\n",
    "utilities.make_cupboard()"
   ]
  },
  {
   "cell_type": "code",
   "execution_count": 4,
   "metadata": {},
   "outputs": [
    {
     "name": "stdout",
     "output_type": "stream",
     "text": [
      "\n",
      "Transient beginning.\n",
      "\n"
     ]
    },
    {
     "ename": "NameError",
     "evalue": "name 'runner' is not defined",
     "output_type": "error",
     "traceback": [
      "\u001b[0;31m---------------------------------------------------------------------------\u001b[0m",
      "\u001b[0;31mNameError\u001b[0m                                 Traceback (most recent call last)",
      "\u001b[0;32m<ipython-input-4-d9460ef76be4>\u001b[0m in \u001b[0;36m<module>\u001b[0;34m\u001b[0m\n\u001b[1;32m      7\u001b[0m \u001b[0;34m\u001b[0m\u001b[0m\n\u001b[1;32m      8\u001b[0m \u001b[0mprint\u001b[0m\u001b[0;34m(\u001b[0m\u001b[0;34m'\\nTransient beginning.\\n'\u001b[0m\u001b[0;34m)\u001b[0m\u001b[0;34m\u001b[0m\u001b[0;34m\u001b[0m\u001b[0m\n\u001b[0;32m----> 9\u001b[0;31m \u001b[0mrunner\u001b[0m\u001b[0;34m.\u001b[0m\u001b[0mintegrate\u001b[0m\u001b[0;34m(\u001b[0m\u001b[0mtransient\u001b[0m\u001b[0;34m)\u001b[0m\u001b[0;34m\u001b[0m\u001b[0;34m\u001b[0m\u001b[0m\n\u001b[0m\u001b[1;32m     10\u001b[0m \u001b[0mtangent_runner\u001b[0m\u001b[0;34m.\u001b[0m\u001b[0mset_state\u001b[0m\u001b[0;34m(\u001b[0m\u001b[0mrunner\u001b[0m\u001b[0;34m.\u001b[0m\u001b[0mstate\u001b[0m\u001b[0;34m,\u001b[0m \u001b[0mtangent_runner\u001b[0m\u001b[0;34m.\u001b[0m\u001b[0mtangent_state\u001b[0m\u001b[0;34m)\u001b[0m\u001b[0;34m\u001b[0m\u001b[0;34m\u001b[0m\u001b[0m\n\u001b[1;32m     11\u001b[0m \u001b[0mprint\u001b[0m\u001b[0;34m(\u001b[0m\u001b[0;34m'\\nTransient finished. Beginning BLV convergence steps.\\n'\u001b[0m\u001b[0;34m)\u001b[0m\u001b[0;34m\u001b[0m\u001b[0;34m\u001b[0m\u001b[0m\n",
      "\u001b[0;31mNameError\u001b[0m: name 'runner' is not defined"
     ]
    }
   ],
   "source": [
    "# Forward Part of Ginelli Algorithm\n",
    "# -----------------------------------------\n",
    "\n",
    "# -----------------------------------------\n",
    "# Transient and Step 1, BLV Convergence\n",
    "# -----------------------------------------\n",
    "\n",
    "print('\\nTransient beginning.\\n')\n",
    "runner.integrate(transient)\n",
    "tangent_runner.set_state(runner.state, tangent_runner.tangent_state)\n",
    "print('\\nTransient finished. Beginning BLV convergence steps.\\n')\n",
    "\n",
    "timings.update({'transient': tm.time() - start})\n",
    "\n",
    "# BLV Convergence steps\n",
    "\n",
    "ginelli_runner.run(ka, noprog=False)\n",
    "\n",
    "timings.update({'Step1': tm.time() - timings['transient'] - start})\n",
    "pickle.dump(timings, open(\"ginelli/timings.p\", \"wb\" ))\n",
    "\n",
    "# -----------------------------------------\n",
    "# Step 2, BLV Observation.\n",
    "# -----------------------------------------\n",
    "\n",
    "print('\\nBLV convergence finished. Beginning to observe BLVs.\\n')\n",
    "blocks = int(kb/dump_size) # How many times we dump\n",
    "remainder = kb%dump_size # Rest of observations\n",
    "\n",
    "for i in tqdm(range(blocks)):\n",
    "\n",
    "    utilities.make_observations(ginelli_runner, [Rlooker, BLVlooker, TrajectoryLooker], dump_size, 1, noprog=False)\n",
    "    # Observation frequency has to be 1 if we're reversing CLVs\n",
    "    Rlooker.dump('ginelli/step2/R')\n",
    "    BLVlooker.dump('ginelli/step2/BLV')\n",
    "    TrajectoryLooker.dump('ginelli/trajectory')\n",
    "\n",
    "utilities.make_observations(ginelli_runner, [Rlooker, BLVlooker, TrajectoryLooker], remainder, 1, noprog=False)\n",
    "Rlooker.dump('ginelli/step2/R')\n",
    "BLVlooker.dump('ginelli/step2/BLV')\n",
    "TrajectoryLooker.dump('ginelli/trajectory')\n",
    "\n",
    "timings.update({'Step2': tm.time() - timings['Step1'] - start})\n",
    "pickle.dump(timings, open(\"ginelli/timings.p\", \"wb\" ))\n",
    "\n",
    "# -----------------------------------------\n",
    "# Step 3, CLV Convergence Step, Forward\n",
    "# -----------------------------------------\n",
    "\n",
    "print('\\nBLV observations finished. CLV convergence beginning. Just observing Rs.\\n')\n",
    "blocks = int(kc/dump_size)\n",
    "remainder = kc%dump_size\n",
    "\n",
    "for i in range(blocks):\n",
    "\n",
    "    utilities.make_observations(ginelli_runner, [Rlooker], dump_size, 1, noprog=False)\n",
    "    Rlooker.dump('ginelli/step3')\n",
    "\n",
    "utilities.make_observations(ginelli_runner, [Rlooker], remainder, 1, noprog=False)\n",
    "Rlooker.dump('ginelli/step3')\n",
    "\n",
    "print('\\nForward part all done :)')\n",
    "\n",
    "timings.update({'Step3': tm.time() - timings['Step2'] - start})\n",
    "pickle.dump(timings, open(\"ginelli/timings.p\", \"wb\" ))\n",
    "\n",
    "# -----------------------------------------\n",
    "# Backward Part of Ginelli Algorithm\n",
    "# -----------------------------------------\n",
    "\n",
    "# -----------------------------------------\n",
    "# Step 4, Reversing CLV Convergence Steps\n",
    "# -----------------------------------------\n",
    "\n",
    "R_files = os.listdir('ginelli/step3')\n",
    "R_files.sort(reverse=True) # Ensuring files are in the right order\n",
    "\n",
    "A = np.identity(ginelli_runner.size)\n",
    "\n",
    "for file in R_files:\n",
    "    R_history = xr.open_dataset('ginelli/step3/' + file)\n",
    "    A = utilities.block_squish_norm(R_history, A) # This A is one timestep ahead of the R that pushed it\n",
    "    R_history.close()\n",
    "    print(f'Pushed A through {file}. Overwriting A.npy.\\n')\n",
    "    np.save('ginelli/step4/A.npy', A)\n",
    "\n",
    "timings.update({'Step4': tm.time() - timings['Step3'] - start})\n",
    "pickle.dump(timings, open(\"ginelli/timings.p\", \"wb\" ))\n",
    "\n",
    "# -----------------------------------------\n",
    "# Step 5, Observing LVs and LEs\n",
    "# -----------------------------------------\n",
    "\n",
    "# Sorting files we will be working with\n",
    "\n",
    "R_files = os.listdir('ginelli/step2/R')\n",
    "R_files.sort(reverse=True)\n",
    "\n",
    "BLV_files = os.listdir('ginelli/step2/BLV')\n",
    "BLV_files.sort(reverse=True)\n",
    "\n",
    "# Setting up observable storage\n",
    "\n",
    "parameters = ginelli_runner.parameter_dict.copy()\n",
    "parameters.update({'transient':transient,'ka':ka, 'kb':kb, 'kc':kc})\n",
    "LyapunovLooker = LyapunovObserver(parameters, len(BLV_files))\n",
    "\n",
    "for [rfile, bfile] in zip(R_files, BLV_files): # Loop over files that were dumped\n",
    "    R_history = xr.open_dataset('ginelli/step2/R/' + rfile)\n",
    "    BLV_history = xr.open_dataset('ginelli/step2/BLV/' + bfile)\n",
    "\n",
    "    Rs, BLVs = np.flip(R_history.R, axis = 0), np.flip(BLV_history.BLV, axis = 0) # Times series reversed\n",
    "\n",
    "    for R, BLV in zip(Rs, BLVs):\n",
    "\n",
    "        # CLV Calculation\n",
    "        CLV = np.matmul(BLV.values, A)\n",
    "\n",
    "        # FTCLE Calculation\n",
    "        squishedA = np.linalg.solve(R, A)\n",
    "        norms = np.linalg.norm(squishedA, axis=0, ord=2)\n",
    "        ftcle = - np.log(norms)/(tau)\n",
    "        A = squishedA/norms\n",
    "\n",
    "        # FTBLE Calculation\n",
    "        ftble = np.log(np.diag(R))/(tau)\n",
    "\n",
    "        # Making observation\n",
    "        time = R.time.item()\n",
    "        LyapunovLooker.look(time, CLV, BLV.values, ftcle, ftble)\n",
    "\n",
    "\n",
    "    LyapunovLooker.dump('ginelli/step5')\n",
    "    R_history.close()\n",
    "    BLV_history.close()\n",
    "\n",
    "timings.update({'Step5': tm.time() - timings['Step4'] - start})\n",
    "pickle.dump(timings, open(\"ginelli/timings.p\", \"wb\" ))\n",
    "\n",
    "print('Ginelli Algorithm finished.')"
   ]
  },
  {
   "cell_type": "markdown",
   "metadata": {},
   "source": [
    "# Quick check of the results¶"
   ]
  },
  {
   "cell_type": "code",
   "execution_count": 5,
   "metadata": {},
   "outputs": [
    {
     "ename": "NameError",
     "evalue": "name 'ds' is not defined",
     "output_type": "error",
     "traceback": [
      "\u001b[0;31m---------------------------------------------------------------------------\u001b[0m",
      "\u001b[0;31mNameError\u001b[0m                                 Traceback (most recent call last)",
      "\u001b[0;32m<ipython-input-5-690c959d55c3>\u001b[0m in \u001b[0;36m<module>\u001b[0;34m\u001b[0m\n\u001b[0;32m----> 1\u001b[0;31m \u001b[0mds\u001b[0m\u001b[0;34m.\u001b[0m\u001b[0mclose\u001b[0m\u001b[0;34m(\u001b[0m\u001b[0;34m)\u001b[0m\u001b[0;34m\u001b[0m\u001b[0;34m\u001b[0m\u001b[0m\n\u001b[0m\u001b[1;32m      2\u001b[0m \u001b[0mds\u001b[0m \u001b[0;34m=\u001b[0m \u001b[0mxr\u001b[0m\u001b[0;34m.\u001b[0m\u001b[0mopen_mfdataset\u001b[0m\u001b[0;34m(\u001b[0m\u001b[0;34mf'ginelli/step5/*.nc'\u001b[0m\u001b[0;34m,\u001b[0m \u001b[0mparallel\u001b[0m\u001b[0;34m=\u001b[0m\u001b[0;32mTrue\u001b[0m\u001b[0;34m,\u001b[0m \u001b[0mcombine\u001b[0m\u001b[0;34m=\u001b[0m\u001b[0;34m'by_coords'\u001b[0m\u001b[0;34m,\u001b[0m \u001b[0mconcat_dim\u001b[0m\u001b[0;34m=\u001b[0m\u001b[0;34m'time'\u001b[0m\u001b[0;34m)\u001b[0m\u001b[0;34m\u001b[0m\u001b[0;34m\u001b[0m\u001b[0m\n",
      "\u001b[0;31mNameError\u001b[0m: name 'ds' is not defined"
     ]
    }
   ],
   "source": [
    "ds.close()\n",
    "ds = xr.open_mfdataset(f'ginelli/step5/*.nc', parallel=True, combine='by_coords', concat_dim='time')"
   ]
  },
  {
   "cell_type": "code",
   "execution_count": 6,
   "metadata": {},
   "outputs": [
    {
     "ename": "NameError",
     "evalue": "name 'spectra' is not defined",
     "output_type": "error",
     "traceback": [
      "\u001b[0;31m---------------------------------------------------------------------------\u001b[0m",
      "\u001b[0;31mNameError\u001b[0m                                 Traceback (most recent call last)",
      "\u001b[0;32m<ipython-input-6-0aff4bea4e3c>\u001b[0m in \u001b[0;36m<module>\u001b[0;34m\u001b[0m\n\u001b[0;32m----> 1\u001b[0;31m \u001b[0mplt\u001b[0m\u001b[0;34m.\u001b[0m\u001b[0mplot\u001b[0m\u001b[0;34m(\u001b[0m\u001b[0mspectra\u001b[0m\u001b[0;34m(\u001b[0m\u001b[0mds\u001b[0m\u001b[0;34m)\u001b[0m\u001b[0;34m,\u001b[0m \u001b[0;34m'.-'\u001b[0m\u001b[0;34m)\u001b[0m\u001b[0;34m\u001b[0m\u001b[0;34m\u001b[0m\u001b[0m\n\u001b[0m\u001b[1;32m      2\u001b[0m \u001b[0mplt\u001b[0m\u001b[0;34m.\u001b[0m\u001b[0mplot\u001b[0m\u001b[0;34m(\u001b[0m\u001b[0mspectra\u001b[0m\u001b[0;34m(\u001b[0m\u001b[0mds\u001b[0m\u001b[0;34m,\u001b[0m \u001b[0mgeometry\u001b[0m\u001b[0;34m=\u001b[0m\u001b[0;34m'B'\u001b[0m \u001b[0;34m)\u001b[0m\u001b[0;34m,\u001b[0m \u001b[0;34m'.-'\u001b[0m\u001b[0;34m)\u001b[0m\u001b[0;34m\u001b[0m\u001b[0;34m\u001b[0m\u001b[0m\n",
      "\u001b[0;31mNameError\u001b[0m: name 'spectra' is not defined"
     ]
    }
   ],
   "source": [
    "plt.plot(spectra(ds), '.-')\n",
    "plt.plot(spectra(ds, geometry='B' ), '.-')"
   ]
  },
  {
   "cell_type": "code",
   "execution_count": 7,
   "metadata": {},
   "outputs": [
    {
     "ename": "NameError",
     "evalue": "name 'spectra' is not defined",
     "output_type": "error",
     "traceback": [
      "\u001b[0;31m---------------------------------------------------------------------------\u001b[0m",
      "\u001b[0;31mNameError\u001b[0m                                 Traceback (most recent call last)",
      "\u001b[0;32m<ipython-input-7-8d18eee19658>\u001b[0m in \u001b[0;36m<module>\u001b[0;34m\u001b[0m\n\u001b[0;32m----> 1\u001b[0;31m \u001b[0mspectra\u001b[0m\u001b[0;34m(\u001b[0m\u001b[0mds\u001b[0m\u001b[0;34m,\u001b[0m \u001b[0mgeometry\u001b[0m\u001b[0;34m=\u001b[0m\u001b[0;34m'B'\u001b[0m\u001b[0;34m)\u001b[0m\u001b[0;34m.\u001b[0m\u001b[0mvalues\u001b[0m\u001b[0;34m.\u001b[0m\u001b[0msum\u001b[0m\u001b[0;34m(\u001b[0m\u001b[0;34m)\u001b[0m\u001b[0;34m\u001b[0m\u001b[0;34m\u001b[0m\u001b[0m\n\u001b[0m",
      "\u001b[0;31mNameError\u001b[0m: name 'spectra' is not defined"
     ]
    }
   ],
   "source": [
    "spectra(ds, geometry='B').values.sum()"
   ]
  },
  {
   "cell_type": "code",
   "execution_count": 8,
   "metadata": {},
   "outputs": [
    {
     "ename": "NameError",
     "evalue": "name 'spectra' is not defined",
     "output_type": "error",
     "traceback": [
      "\u001b[0;31m---------------------------------------------------------------------------\u001b[0m",
      "\u001b[0;31mNameError\u001b[0m                                 Traceback (most recent call last)",
      "\u001b[0;32m<ipython-input-8-357bde6402a5>\u001b[0m in \u001b[0;36m<module>\u001b[0;34m\u001b[0m\n\u001b[0;32m----> 1\u001b[0;31m \u001b[0mspectra\u001b[0m\u001b[0;34m(\u001b[0m\u001b[0mds\u001b[0m\u001b[0;34m)\u001b[0m\u001b[0;34m.\u001b[0m\u001b[0mvalues\u001b[0m\u001b[0;34m.\u001b[0m\u001b[0msum\u001b[0m\u001b[0;34m(\u001b[0m\u001b[0;34m)\u001b[0m\u001b[0;34m\u001b[0m\u001b[0;34m\u001b[0m\u001b[0m\n\u001b[0m",
      "\u001b[0;31mNameError\u001b[0m: name 'spectra' is not defined"
     ]
    }
   ],
   "source": [
    "spectra(ds).values.sum()"
   ]
  },
  {
   "cell_type": "code",
   "execution_count": null,
   "metadata": {},
   "outputs": [],
   "source": []
  }
 ],
 "metadata": {
  "kernelspec": {
   "display_name": "Python 3",
   "language": "python",
   "name": "python3"
  },
  "language_info": {
   "codemirror_mode": {
    "name": "ipython",
    "version": 3
   },
   "file_extension": ".py",
   "mimetype": "text/x-python",
   "name": "python",
   "nbconvert_exporter": "python",
   "pygments_lexer": "ipython3",
   "version": "3.6.9"
  }
 },
 "nbformat": 4,
 "nbformat_minor": 4
}
