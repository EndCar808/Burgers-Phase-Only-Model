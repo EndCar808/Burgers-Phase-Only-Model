{
 "cells": [
  {
   "cell_type": "code",
   "execution_count": 43,
   "metadata": {},
   "outputs": [],
   "source": [
    "import os\n",
    "import sys\n",
    "import numpy as np\n",
    "import shutil\n",
    "import h5py"
   ]
  },
  {
   "cell_type": "markdown",
   "metadata": {},
   "source": [
    "## Data Directories"
   ]
  },
  {
   "cell_type": "code",
   "execution_count": 5,
   "metadata": {},
   "outputs": [],
   "source": [
    "data_dir = '/work/projects/TurbPhase/burgers_1d_code/Burgers_PO/Data'\n",
    "movies   = '/Movies'\n",
    "results  = '/RESULTS'\n",
    "snaps    = '/Snapshots'"
   ]
  },
  {
   "cell_type": "markdown",
   "metadata": {},
   "source": [
    "### Delete the Snaps in the Triad Dynamics Folder"
   ]
  },
  {
   "cell_type": "code",
   "execution_count": 3,
   "metadata": {},
   "outputs": [
    {
     "name": "stdout",
     "output_type": "stream",
     "text": [
      "/work/projects/TurbPhase/burgers_1d_code/Burgers_PO/Data/Snapshots/TriadDynamics/\n",
      "True\n",
      "/work/projects/TurbPhase/burgers_1d_code/Burgers_PO/Data/Snapshots/TriadDynamics/LCE_Runtime_Data_N[512]_k0[2]_ALPHA[2.000]_BETA[0.000]_u0[ALIGNED]_ITERS[400000]/SNAPS/\n"
     ]
    }
   ],
   "source": [
    "# Create path\n",
    "triad_dym_path = data_dir + snaps + '/TriadDynamics/'\n",
    "\n",
    "# Get the names of the sub folders\n",
    "for f in os.listdir(triad_dym_path):\n",
    "    \n",
    "    # Get path to SNAPS subfolder\n",
    "    snaps_path = triad_dym_path + f + '/SNAPS/'\n",
    "    print(snaps_path)\n",
    "    \n",
    "    # Filter out the .png files\n",
    "    pngs = filter(lambda x: \".png\" in x, os.listdir(snaps_path))\n",
    "    \n",
    "    # Delete each one of the png files\n",
    "    for png in pngs:\n",
    "        os.remove(snaps_path + png)"
   ]
  },
  {
   "cell_type": "markdown",
   "metadata": {},
   "source": [
    "## Paper Data"
   ]
  },
  {
   "cell_type": "markdown",
   "metadata": {},
   "source": [
    "### Move Old Paper data to new location"
   ]
  },
  {
   "cell_type": "code",
   "execution_count": 54,
   "metadata": {},
   "outputs": [],
   "source": [
    "res_dir = data_dir + results\n",
    "# os.path.exists(res_dir)\n",
    "new_dir = data_dir + '/PRL_PAPER_DATA'\n",
    "# os.path.exists(res_dir)"
   ]
  },
  {
   "cell_type": "code",
   "execution_count": 65,
   "metadata": {},
   "outputs": [],
   "source": [
    "N = [128, 256, 512, 1024]\n",
    "alpha = np.arange(0.0, 2.55, 0.01)\n",
    "k0    = 1\n",
    "beta  = 0.0\n",
    "iters = 400000\n",
    "m_end = 8000\n",
    "m_itr = 50\n",
    "trans = 1000\n",
    "u0    = \"RANDOM\"\n"
   ]
  },
  {
   "cell_type": "code",
   "execution_count": 63,
   "metadata": {},
   "outputs": [],
   "source": [
    "def find_filename(res_dir, N, k0, a, beta, iters, m_end, m_iter, trans, numLEs, dof):\n",
    "    \n",
    "    # Construct filename\n",
    "    filename = res_dir + \"/RESULTS_N[{}]_k0[{}]_ALPHA[{:0.3f}]_BETA[{:0.3f}]_u0[{}]/CLVData_ITERS[{},{},{}]\".format(N, k0, a, beta, u0, iters, m_end, m_iter)\n",
    "\n",
    "    if os.path.exists(filename + \"_TRANS[{}].h5\".format(trans)):\n",
    "        file = filename + \"_TRANS[{}].h5\".format(trans)\n",
    "        trans_itrs = trans\n",
    "    elif os.path.exists(filename + \"_TRANS[{}].h5\".format(trans * 10)):\n",
    "        file = filename + \"_TRANS[{}].h5\".format(trans * 10)\n",
    "        trans_itrs = trans * 10\n",
    "    elif os.path.exists(filename + \"_TRANS[{}].h5\".format(trans / 10)):\n",
    "        file = filename + \"_TRANS[{}].h5\".format(trans / 10)\n",
    "        trans_itrs = trans / 10\n",
    "    elif os.path.exists(filename + \"_TRANS[{}].h5\".format(trans * 100)):\n",
    "        file = filename + \"_TRANS[{}].h5\".format(trans * 100) \n",
    "        trans_itrs = trans * 100\n",
    "    elif os.path.exists(filename + \"_TRANS[{}]\".format(trans) + \"_LEs[{}].h5\".format(dof)):\n",
    "        file = filename + \"_TRANS[{}]\".format(trans) + \"_LEs[{}].h5\".format(dof)\n",
    "        trans_itrs = trans\n",
    "    elif os.path.exists(filename + \"_TRANS[{}]\".format(trans * 10) + \"_LEs[{}].h5\".format(dof)):\n",
    "        file = filename + \"_TRANS[{}]\".format(trans * 10) + \"_LEs[{}].h5\".format(dof)\n",
    "        trans_itrs = trans * 10\n",
    "    elif os.path.exists(filename + \"_TRANS[{}]\".format(trans / 10) + \"_LEs[{}].h5\".format(dof)):\n",
    "        file = filename + \"_TRANS[{}]\".format(trans / 10) + \"_LEs[{}].h5\".format(dof)\n",
    "        trans_itrs = trans / 10\n",
    "    elif os.path.exists(filename + \"_TRANS[{}]\".format(trans * 100) + \"_LEs[{}].h5\".format(dof)):\n",
    "        file = filename + \"_TRANS[{}]\".format(trans * 100) + \"_LEs[{}].h5\".format(dof)\n",
    "        trans_itrs = trans * 100\n",
    "    elif os.path.exists(filename + \"_TRANS[{}]\".format(trans * 1000) + \"_LEs[{}].h5\".format(dof)):\n",
    "        file = filename + \"_TRANS[{}]\".format(trans * 1000) + \"_LEs[{}].h5\".format(dof)\n",
    "        trans_itrs = trans * 1000\n",
    "    else: \n",
    "#         print(\"File doesn't exist, check parameters!\")\n",
    "        return -1, -1\n",
    "    \n",
    "    return file, trans_itrs"
   ]
  },
  {
   "cell_type": "code",
   "execution_count": 66,
   "metadata": {},
   "outputs": [
    {
     "name": "stdout",
     "output_type": "stream",
     "text": [
      "811\n",
      "0\n"
     ]
    }
   ],
   "source": [
    "## Check files exist\n",
    "exists = 0\n",
    "doesnt = 0\n",
    "for n in N:\n",
    "    for a in alpha:\n",
    "        # Get number of LEs and DOF\n",
    "        numLEs = int(n / 2 - k0)\n",
    "        dof    = int(n / 2 - k0)\n",
    "        \n",
    "        ## Get file path\n",
    "        filename, _ = find_filename(res_dir, n, k0, a, beta, iters, m_end, m_itr, trans, numLEs, dof)\n",
    "        if filename == -1:\n",
    "            continue\n",
    "        \n",
    "        ## Check if file exists\n",
    "        try:\n",
    "            exists += os.path.exists(filename)\n",
    "        except:\n",
    "            print(\"File doesn't exist: {}\".format(filename))\n",
    "            doesnt += 1 \n",
    "\n",
    "print(exists)\n",
    "print(doesnt)"
   ]
  },
  {
   "cell_type": "code",
   "execution_count": 68,
   "metadata": {},
   "outputs": [],
   "source": [
    "## Copy to new location\n",
    "for n in N:\n",
    "    for a in alpha:\n",
    "        # Get number of LEs and DOF\n",
    "        numLEs = int(n / 2 - k0)\n",
    "        dof    = int(n / 2 - k0)\n",
    "        \n",
    "        ## Get file path\n",
    "        filename, trans_itrs = find_filename(res_dir, n, k0, a, beta, iters, m_end, m_itr, trans, numLEs, dof)\n",
    "        if filename == -1:\n",
    "            continue\n",
    "        \n",
    "        ## Copy to new loc\n",
    "        new_loc = new_dir + r\"/Plots/\" + r\"PAPER_LCEData_N[{}]_k0[{}]_ALPHA[{:0.3f}]_BETA[{:0.3f}]_u0[{}]_ITERS[{},{},{}]_TRANS[{}]_LEs[{}].h5\".format(n, k0, a, beta, u0, iters, m_end, m_itr, trans_itrs, numLEs)\n",
    "        shutil.copyfile(filename, new_loc)"
   ]
  },
  {
   "cell_type": "code",
   "execution_count": 70,
   "metadata": {},
   "outputs": [
    {
     "name": "stdout",
     "output_type": "stream",
     "text": [
      "Unable to open file: /work/projects/TurbPhase/burgers_1d_code/Burgers_PO/Data/PRL_PAPER_DATA/Plots/PAPER_LCEData_N[1024]_k0[1]_ALPHA[0.020]_BETA[0.000]_u0[RANDOM]_ITERS[400000,8000,50]_TRANS[10000]_LEs[511].h5\n",
      "Unable to open file: /work/projects/TurbPhase/burgers_1d_code/Burgers_PO/Data/PRL_PAPER_DATA/Plots/PAPER_LCEData_N[1024]_k0[1]_ALPHA[0.170]_BETA[0.000]_u0[RANDOM]_ITERS[400000,8000,50]_TRANS[10000]_LEs[511].h5\n",
      "Unable to open file: /work/projects/TurbPhase/burgers_1d_code/Burgers_PO/Data/PRL_PAPER_DATA/Plots/PAPER_LCEData_N[1024]_k0[1]_ALPHA[0.230]_BETA[0.000]_u0[RANDOM]_ITERS[400000,8000,50]_TRANS[10000]_LEs[511].h5\n",
      "Unable to open file: /work/projects/TurbPhase/burgers_1d_code/Burgers_PO/Data/PRL_PAPER_DATA/Plots/PAPER_LCEData_N[1024]_k0[1]_ALPHA[0.280]_BETA[0.000]_u0[RANDOM]_ITERS[400000,8000,50]_TRANS[10000]_LEs[511].h5\n",
      "Unable to open file: /work/projects/TurbPhase/burgers_1d_code/Burgers_PO/Data/PRL_PAPER_DATA/Plots/PAPER_LCEData_N[1024]_k0[1]_ALPHA[0.310]_BETA[0.000]_u0[RANDOM]_ITERS[400000,8000,50]_TRANS[10000]_LEs[511].h5\n",
      "Unable to open file: /work/projects/TurbPhase/burgers_1d_code/Burgers_PO/Data/PRL_PAPER_DATA/Plots/PAPER_LCEData_N[1024]_k0[1]_ALPHA[0.370]_BETA[0.000]_u0[RANDOM]_ITERS[400000,8000,50]_TRANS[10000]_LEs[511].h5\n",
      "Unable to open file: /work/projects/TurbPhase/burgers_1d_code/Burgers_PO/Data/PRL_PAPER_DATA/Plots/PAPER_LCEData_N[1024]_k0[1]_ALPHA[0.390]_BETA[0.000]_u0[RANDOM]_ITERS[400000,8000,50]_TRANS[10000]_LEs[511].h5\n",
      "Unable to open file: /work/projects/TurbPhase/burgers_1d_code/Burgers_PO/Data/PRL_PAPER_DATA/Plots/PAPER_LCEData_N[1024]_k0[1]_ALPHA[1.240]_BETA[0.000]_u0[RANDOM]_ITERS[400000,8000,50]_TRANS[100000]_LEs[511].h5\n",
      "Unable to open file: /work/projects/TurbPhase/burgers_1d_code/Burgers_PO/Data/PRL_PAPER_DATA/Plots/PAPER_LCEData_N[1024]_k0[1]_ALPHA[1.320]_BETA[0.000]_u0[RANDOM]_ITERS[400000,8000,50]_TRANS[100000]_LEs[511].h5\n",
      "Unable to open file: /work/projects/TurbPhase/burgers_1d_code/Burgers_PO/Data/PRL_PAPER_DATA/Plots/PAPER_LCEData_N[1024]_k0[1]_ALPHA[1.390]_BETA[0.000]_u0[RANDOM]_ITERS[400000,8000,50]_TRANS[100000]_LEs[511].h5\n",
      "Unable to open file: /work/projects/TurbPhase/burgers_1d_code/Burgers_PO/Data/PRL_PAPER_DATA/Plots/PAPER_LCEData_N[1024]_k0[1]_ALPHA[1.410]_BETA[0.000]_u0[RANDOM]_ITERS[400000,8000,50]_TRANS[100000]_LEs[511].h5\n",
      "Unable to open file: /work/projects/TurbPhase/burgers_1d_code/Burgers_PO/Data/PRL_PAPER_DATA/Plots/PAPER_LCEData_N[1024]_k0[1]_ALPHA[1.420]_BETA[0.000]_u0[RANDOM]_ITERS[400000,8000,50]_TRANS[100000]_LEs[511].h5\n",
      "Unable to open file: /work/projects/TurbPhase/burgers_1d_code/Burgers_PO/Data/PRL_PAPER_DATA/Plots/PAPER_LCEData_N[1024]_k0[1]_ALPHA[1.430]_BETA[0.000]_u0[RANDOM]_ITERS[400000,8000,50]_TRANS[100000]_LEs[511].h5\n",
      "Unable to open file: /work/projects/TurbPhase/burgers_1d_code/Burgers_PO/Data/PRL_PAPER_DATA/Plots/PAPER_LCEData_N[1024]_k0[1]_ALPHA[1.440]_BETA[0.000]_u0[RANDOM]_ITERS[400000,8000,50]_TRANS[100000]_LEs[511].h5\n",
      "Unable to open file: /work/projects/TurbPhase/burgers_1d_code/Burgers_PO/Data/PRL_PAPER_DATA/Plots/PAPER_LCEData_N[1024]_k0[1]_ALPHA[1.460]_BETA[0.000]_u0[RANDOM]_ITERS[400000,8000,50]_TRANS[100000]_LEs[511].h5\n",
      "Unable to open file: /work/projects/TurbPhase/burgers_1d_code/Burgers_PO/Data/PRL_PAPER_DATA/Plots/PAPER_LCEData_N[1024]_k0[1]_ALPHA[1.560]_BETA[0.000]_u0[RANDOM]_ITERS[400000,8000,50]_TRANS[100000]_LEs[511].h5\n",
      "Unable to open file: /work/projects/TurbPhase/burgers_1d_code/Burgers_PO/Data/PRL_PAPER_DATA/Plots/PAPER_LCEData_N[1024]_k0[1]_ALPHA[1.580]_BETA[0.000]_u0[RANDOM]_ITERS[400000,8000,50]_TRANS[100000]_LEs[511].h5\n",
      "Unable to open file: /work/projects/TurbPhase/burgers_1d_code/Burgers_PO/Data/PRL_PAPER_DATA/Plots/PAPER_LCEData_N[1024]_k0[1]_ALPHA[1.610]_BETA[0.000]_u0[RANDOM]_ITERS[400000,8000,50]_TRANS[100000]_LEs[511].h5\n",
      "Unable to open file: /work/projects/TurbPhase/burgers_1d_code/Burgers_PO/Data/PRL_PAPER_DATA/Plots/PAPER_LCEData_N[1024]_k0[1]_ALPHA[1.640]_BETA[0.000]_u0[RANDOM]_ITERS[400000,8000,50]_TRANS[100000]_LEs[511].h5\n",
      "Unable to open file: /work/projects/TurbPhase/burgers_1d_code/Burgers_PO/Data/PRL_PAPER_DATA/Plots/PAPER_LCEData_N[1024]_k0[1]_ALPHA[1.660]_BETA[0.000]_u0[RANDOM]_ITERS[400000,8000,50]_TRANS[100000]_LEs[511].h5\n",
      "Unable to open file: /work/projects/TurbPhase/burgers_1d_code/Burgers_PO/Data/PRL_PAPER_DATA/Plots/PAPER_LCEData_N[1024]_k0[1]_ALPHA[1.820]_BETA[0.000]_u0[RANDOM]_ITERS[400000,8000,50]_TRANS[100000]_LEs[511].h5\n",
      "Unable to open file: /work/projects/TurbPhase/burgers_1d_code/Burgers_PO/Data/PRL_PAPER_DATA/Plots/PAPER_LCEData_N[1024]_k0[1]_ALPHA[1.840]_BETA[0.000]_u0[RANDOM]_ITERS[400000,8000,50]_TRANS[100000]_LEs[511].h5\n",
      "Unable to open file: /work/projects/TurbPhase/burgers_1d_code/Burgers_PO/Data/PRL_PAPER_DATA/Plots/PAPER_LCEData_N[1024]_k0[1]_ALPHA[1.880]_BETA[0.000]_u0[RANDOM]_ITERS[400000,8000,50]_TRANS[100000]_LEs[511].h5\n",
      "Unable to open file: /work/projects/TurbPhase/burgers_1d_code/Burgers_PO/Data/PRL_PAPER_DATA/Plots/PAPER_LCEData_N[1024]_k0[1]_ALPHA[1.910]_BETA[0.000]_u0[RANDOM]_ITERS[400000,8000,50]_TRANS[100000]_LEs[511].h5\n",
      "Unable to open file: /work/projects/TurbPhase/burgers_1d_code/Burgers_PO/Data/PRL_PAPER_DATA/Plots/PAPER_LCEData_N[1024]_k0[1]_ALPHA[1.920]_BETA[0.000]_u0[RANDOM]_ITERS[400000,8000,50]_TRANS[100000]_LEs[511].h5\n",
      "Unable to open file: /work/projects/TurbPhase/burgers_1d_code/Burgers_PO/Data/PRL_PAPER_DATA/Plots/PAPER_LCEData_N[1024]_k0[1]_ALPHA[1.940]_BETA[0.000]_u0[RANDOM]_ITERS[400000,8000,50]_TRANS[100000]_LEs[511].h5\n",
      "Unable to open file: /work/projects/TurbPhase/burgers_1d_code/Burgers_PO/Data/PRL_PAPER_DATA/Plots/PAPER_LCEData_N[1024]_k0[1]_ALPHA[2.020]_BETA[0.000]_u0[RANDOM]_ITERS[400000,8000,50]_TRANS[100000]_LEs[511].h5\n",
      "Unable to open file: /work/projects/TurbPhase/burgers_1d_code/Burgers_PO/Data/PRL_PAPER_DATA/Plots/PAPER_LCEData_N[1024]_k0[1]_ALPHA[2.080]_BETA[0.000]_u0[RANDOM]_ITERS[400000,8000,50]_TRANS[100000]_LEs[511].h5\n",
      "Unable to open file: /work/projects/TurbPhase/burgers_1d_code/Burgers_PO/Data/PRL_PAPER_DATA/Plots/PAPER_LCEData_N[1024]_k0[1]_ALPHA[2.160]_BETA[0.000]_u0[RANDOM]_ITERS[400000,8000,50]_TRANS[100000]_LEs[511].h5\n",
      "Unable to open file: /work/projects/TurbPhase/burgers_1d_code/Burgers_PO/Data/PRL_PAPER_DATA/Plots/PAPER_LCEData_N[1024]_k0[1]_ALPHA[2.170]_BETA[0.000]_u0[RANDOM]_ITERS[400000,8000,50]_TRANS[100000]_LEs[511].h5\n",
      "Unable to open file: /work/projects/TurbPhase/burgers_1d_code/Burgers_PO/Data/PRL_PAPER_DATA/Plots/PAPER_LCEData_N[1024]_k0[1]_ALPHA[2.180]_BETA[0.000]_u0[RANDOM]_ITERS[400000,8000,50]_TRANS[100000]_LEs[511].h5\n",
      "Unable to open file: /work/projects/TurbPhase/burgers_1d_code/Burgers_PO/Data/PRL_PAPER_DATA/Plots/PAPER_LCEData_N[1024]_k0[1]_ALPHA[2.230]_BETA[0.000]_u0[RANDOM]_ITERS[400000,8000,50]_TRANS[100000]_LEs[511].h5\n",
      "Unable to open file: /work/projects/TurbPhase/burgers_1d_code/Burgers_PO/Data/PRL_PAPER_DATA/Plots/PAPER_LCEData_N[1024]_k0[1]_ALPHA[2.280]_BETA[0.000]_u0[RANDOM]_ITERS[400000,8000,50]_TRANS[100000]_LEs[511].h5\n",
      "Unable to open file: /work/projects/TurbPhase/burgers_1d_code/Burgers_PO/Data/PRL_PAPER_DATA/Plots/PAPER_LCEData_N[1024]_k0[1]_ALPHA[2.290]_BETA[0.000]_u0[RANDOM]_ITERS[400000,8000,50]_TRANS[100000]_LEs[511].h5\n",
      "Unable to open file: /work/projects/TurbPhase/burgers_1d_code/Burgers_PO/Data/PRL_PAPER_DATA/Plots/PAPER_LCEData_N[1024]_k0[1]_ALPHA[2.330]_BETA[0.000]_u0[RANDOM]_ITERS[400000,8000,50]_TRANS[100000]_LEs[511].h5\n",
      "Unable to open file: /work/projects/TurbPhase/burgers_1d_code/Burgers_PO/Data/PRL_PAPER_DATA/Plots/PAPER_LCEData_N[1024]_k0[1]_ALPHA[2.380]_BETA[0.000]_u0[RANDOM]_ITERS[400000,8000,50]_TRANS[100000]_LEs[511].h5\n"
     ]
    }
   ],
   "source": [
    "## Check data in new loc is ok \n",
    "for n in N:\n",
    "    for a in alpha:\n",
    "        # Get number of LEs and DOF\n",
    "        numLEs = int(n / 2 - k0)\n",
    "        dof    = int(n / 2 - k0)\n",
    "        \n",
    "        ## Get file path\n",
    "        filename, trans_itrs = find_filename(res_dir, n, k0, a, beta, iters, m_end, m_itr, trans, numLEs, dof)\n",
    "        if filename == -1:\n",
    "            continue\n",
    "        \n",
    "        ## \n",
    "        new_loc = new_dir + r\"/Plots/\" + r\"PAPER_LCEData_N[{}]_k0[{}]_ALPHA[{:0.3f}]_BETA[{:0.3f}]_u0[{}]_ITERS[{},{},{}]_TRANS[{}]_LEs[{}].h5\".format(n, k0, a, beta, u0, iters, m_end, m_itr, trans_itrs, numLEs)\n",
    "        try:\n",
    "            f = h5py.File(new_loc, 'r')\n",
    "        except:\n",
    "            print(\"Unable to open file: {}\".format(new_loc))\n",
    "        else:\n",
    "            f.close()\n"
   ]
  },
  {
   "cell_type": "code",
   "execution_count": 71,
   "metadata": {},
   "outputs": [],
   "source": [
    "## Delete Old data files\n",
    "for n in N:\n",
    "    for a in alpha:        \n",
    "        # Get number of LEs and DOF\n",
    "        numLEs = int(n / 2 - k0)\n",
    "        dof    = int(n / 2 - k0)\n",
    "\n",
    "        ## Get file path\n",
    "        filename, trans_itrs = find_filename(res_dir, n, k0, a, beta, iters, m_end, m_itr, trans, numLEs, dof)\n",
    "        if filename == -1:\n",
    "            continue\n",
    "\n",
    "        os.remove(filename)"
   ]
  },
  {
   "cell_type": "code",
   "execution_count": 72,
   "metadata": {},
   "outputs": [
    {
     "name": "stdout",
     "output_type": "stream",
     "text": [
      "1020\n"
     ]
    }
   ],
   "source": [
    "## Check old files are deleted\n",
    "deleted = 0\n",
    "for n in N:\n",
    "    for a in alpha:        \n",
    "        # Get number of LEs and DOF\n",
    "        numLEs = int(n / 2 - k0)\n",
    "        dof    = int(n / 2 - k0)\n",
    "\n",
    "        ## Get file path\n",
    "        filename, trans_itrs = find_filename(res_dir, n, k0, a, beta, iters, m_end, m_itr, trans, numLEs, dof)\n",
    "        if filename == -1:\n",
    "            deleted += 1\n",
    "print(deleted)"
   ]
  },
  {
   "cell_type": "code",
   "execution_count": null,
   "metadata": {},
   "outputs": [],
   "source": []
  }
 ],
 "metadata": {
  "kernelspec": {
   "display_name": "Python 3",
   "language": "python",
   "name": "python3"
  },
  "language_info": {
   "codemirror_mode": {
    "name": "ipython",
    "version": 3
   },
   "file_extension": ".py",
   "mimetype": "text/x-python",
   "name": "python",
   "nbconvert_exporter": "python",
   "pygments_lexer": "ipython3",
   "version": "3.6.9"
  }
 },
 "nbformat": 4,
 "nbformat_minor": 4
}
