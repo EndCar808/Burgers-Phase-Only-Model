{
 "cells": [
  {
   "cell_type": "code",
   "execution_count": 1,
   "metadata": {},
   "outputs": [],
   "source": [
    "import matplotlib as mpl\n",
    "# mpl.use('TkAgg') # Use this backend for displaying plots in window\n",
    "# mpl.use('Agg') # Use this backend for writing plots to file\n",
    "\n",
    "import matplotlib.pyplot as plt\n",
    "# plt.style.use('seaborn-talk')\n",
    "mpl.rcParams['figure.figsize'] = [16, 9]\n",
    "mpl.rcParams['figure.autolayout'] = True\n",
    "mpl.rcParams['text.usetex'] = True\n",
    "mpl.rcParams['font.family'] = 'serif'\n",
    "mpl.rcParams['font.serif'] = 'Computer Modern Roman'\n",
    "mpl.rcParams['lines.linewidth'] = 1.25\n",
    "mpl.rcParams['lines.markersize'] = 6\n",
    "from mpl_toolkits.axes_grid1.inset_locator import inset_axes, mark_inset\n",
    "import h5py\n",
    "import sys\n",
    "import os\n",
    "import time as TIME\n",
    "import multiprocessing as mprocs\n",
    "from threading import Thread\n",
    "from subprocess import Popen, PIPE\n",
    "from mpl_toolkits.axes_grid1 import make_axes_locatable\n",
    "from itertools import zip_longest\n",
    "from matplotlib.gridspec import GridSpec\n",
    "from matplotlib.pyplot import cm \n",
    "import numpy as np\n",
    "np.set_printoptions(threshold=sys.maxsize)\n",
    "from numba import jit"
   ]
  },
  {
   "cell_type": "code",
   "execution_count": 40,
   "metadata": {},
   "outputs": [],
   "source": [
    "\n",
    "## Create the triads from the phases\n",
    "@jit(nopython = True)\n",
    "def compute_triads(phases, kmin, kmax):\n",
    "\tprint(\"\\n...Computing Triads...\\n\")\n",
    "\n",
    "\t## Variables\n",
    "\tnumTriads  = 0;\n",
    "\tk3_range   = int(kmax - kmin + 1)\n",
    "\tk1_range   = int((kmax - kmin + 1) / 2)\n",
    "\ttime_steps = phases.shape[0]\n",
    "\n",
    "\t## Create memory space\n",
    "\ttriadphase = -10 * np.ones((k3_range, k1_range, time_steps))\n",
    "\ttriads     = -10 * np.ones((k3_range, k1_range, time_steps))\n",
    "\tphaseOrder = np.complex(0.0, 0.0) * np.ones((time_steps))\n",
    "\tR          = np.zeros((time_steps))\n",
    "\tPhi        = np.zeros((time_steps))\n",
    "\t\n",
    "\t## Compute the triads\n",
    "\tfor k in range(kmin, kmax + 1):\n",
    "\t    for k1 in range(kmin, int(k/2) + 1):\n",
    "\t        triadphase[k - kmin, k1 - kmin, :] = phases[:, k1] + phases[:, k - k1] - phases[:, k]\n",
    "\t        triads[k - kmin, k1 - kmin, :]     = np.mod(triadphase[k - kmin, k1 - kmin, :], 2*np.pi)\n",
    "\n",
    "\t        phaseOrder[:] += np.exp(np.complex(0.0, 1.0)*triads[k - kmin, k1 - kmin, :])\n",
    "\t        numTriads += 1\n",
    "\t\n",
    "\t# Compute Phase-Order params\n",
    "\tR[:]   = np.absolute(phaseOrder[:] / numTriads)\n",
    "\tPhi[:] = np.angle(phaseOrder[:] / numTriads)\n",
    "\n",
    "\treturn triads, R, Phi\n",
    "\n",
    "## Create the Kuramoto-Order from the phases\n",
    "@jit(nopython = True)\n",
    "def compute_phase_order(phases, amps, kmin, kmax):\n",
    "    print(\"\\n...Computing Scale Phase Order...\\n\")\n",
    "\n",
    "    ## Variables\n",
    "    k_range     = int(kmax - kmin + 1)\n",
    "    k1_range    = int((kmax - kmin + 1) / 2)\n",
    "    time_steps  = phases.shape[0]\n",
    "    sum_of_amps = 0.0\n",
    "\n",
    "    phaseOrder = -10 * np.complex(0.0, 0.0) * np.ones((time_steps, k_range))\n",
    "\n",
    "    ## Compute the phase order\n",
    "    for k in range(kmin, kmax + 1):\n",
    "        for k_1 in range(kmin + k,  int(2 * kmax)):\n",
    "            if k_1 < kmax:\n",
    "                k1 = -kmax + k_1\n",
    "            else:\n",
    "                k1 = k_1 - kmax;\n",
    "\n",
    "            if k1 < 0:\n",
    "                phaseOrder[:, k - kmin] += (amps[np.absolute(k1)] * np.exp(-np.complex(0.0, 1.0) * phases[:, np.absolute(k1)])) * (amps[k - k1] * np.exp(np.complex(0.0, 1.0) * phases[:, k - k1]))\n",
    "                sum_of_amps += amps[np.absolute(k1)] * amps[k - k1]\n",
    "            elif k - k1 < 0:\n",
    "                phaseOrder[:, k - kmin] += (amps[k1] * np.exp(np.complex(0.0, 1.0) * phases[:, k1])) * (amps[np.absolute(k - k1)] * np.exp(-np.complex(0.0, 1.0) * phases[:, np.absolute(k - k1)]))\n",
    "                sum_of_amps += amps[k1] * amps[np.absolute(k - k1)]\n",
    "            else:\n",
    "                phaseOrder[:, k - kmin] += (amps[k1] * np.exp(np.complex(0.0, 1.0) * phases[:, k1])) * (amps[k - k1] * np.exp(np.complex(0.0, 1.0) * phases[:, k - k1]))\n",
    "                sum_of_amps += amps[k1] * amps[k - k1]\n",
    "\n",
    "    # \t\tphaseOrder[:, k - kmin] = (-np.complex(0.0, 1.0) * phaseOrder[:, k - kmin]) / sum_of_amps\n",
    "        phaseOrder[:, k - kmin] = (-np.complex(0.0, 1.0) * phaseOrder[:, k - kmin])\n",
    "\n",
    "\n",
    "    return np.absolute(phaseOrder[:, :]), np.angle(phaseOrder[:, :])\n",
    "\n",
    "\n",
    "\n",
    "def plot_phase_order(R_k, Phi_k, kmin, kmax, t):\n",
    "\t\n",
    "\tr    = 1\n",
    "\tthet = np.linspace(0.0, 2.0*np.pi, 100)\n",
    "\n",
    "\tfig = plt.figure(figsize = (20, 10), tight_layout = False)\n",
    "\tgs  = GridSpec(1, 2)\n",
    "\n",
    "\t## REAL SPACE\n",
    "\tax1 = fig.add_subplot(gs[0, 0])\n",
    "\tax1.plot(r * np.cos(thet), r * np.sin(thet), '--', color = 'black')\n",
    "\tax1.scatter(R_k * np.cos(Phi_k), R_k * np.sin(Phi_k), marker = 'o', c = np.arange(len(R_k)), s = 0.01, cmap = 'viridis')\n",
    "\tax1.set_xlim(-1, 1)\n",
    "\tax1.set_ylim(-1, 1)\n",
    "\tax1.set_xlabel(r\"$\\Re\\left[R_{k} e^{\\mathrm{i} \\Phi_{k}}\\right]$\")\n",
    "\tax1.set_ylabel(r\"$\\Im\\left[R_{k} e^{\\mathrm{i} \\Phi_{k}}\\right]$\")\n",
    "\tax1.spines['top'].set_visible(False)\n",
    "\tax1.spines['right'].set_visible(False)\n",
    "\tax1.spines['bottom'].set_visible(False)\n",
    "\tax1.spines['left'].set_visible(False)\n",
    "\tax1.set_xticks([])\n",
    "\tax1.set_yticks([])\n",
    "\n",
    "\tax2 = fig.add_subplot(gs[0, 1])\n",
    "\tax2.plot(r * np.cos(thet), r * np.sin(thet), '--', color = 'black')\n",
    "\tax2.scatter(R_k * np.cos(Phi_k), R_k * np.sin(Phi_k), marker = 'o', c = np.arange(len(R_k)), s = 0.01, cmap = 'viridis')\n",
    "\tax2.set_xlim(-1/5, 1/5)\n",
    "\tax2.set_ylim(-1/5, 1/5)\n",
    "\tax2.set_xlabel(r\"$\\Re\\left[R_{k} e^{\\mathrm{i} \\Phi_{k}}\\right]$\")\n",
    "\tax2.set_ylabel(r\"$\\Im\\left[R_{k} e^{\\mathrm{i} \\Phi_{k}}\\right]$\")\n",
    "\t# ax2.spines['top'].set_visible(False)\n",
    "\t# ax2.spines['right'].set_visible(False)\n",
    "\t# ax2.spines['bottom'].set_visible(False)\n",
    "\t# ax2.spines['left'].set_visible(False)\n",
    "\t# ax2.set_xticks([])\n",
    "\t# ax2.set_yticks([])\n",
    "\n",
    "\t# plt.colorbar()\n",
    "\t# cbar.set_ticks([kmin, kmax/2, kmax])\n",
    " #    cbar.set_ticklabels([r\"$0$\", r\"$\\frac{\\pi}{2}$\", r\"$\\pi$\", r\"$\\frac{3\\pi}{2}$\", r\"$2\\pi$\"])\n",
    "\n",
    "\tplt.savefig(output_dir + \"/ORDER_SNAPS/Order_SNAPS_{:05d}.png\".format(t), format='png', dpi = 400)  \n",
    "\tplt.close()\n"
   ]
  },
  {
   "cell_type": "code",
   "execution_count": 41,
   "metadata": {},
   "outputs": [],
   "source": [
    "k0 = 1\n",
    "alpha = 2.35\n",
    "beta  = 0.0\n",
    "iters = 400000\n",
    "trans = 0\n",
    "N = 256\n",
    "u0 = \"RANDOM\""
   ]
  },
  {
   "cell_type": "code",
   "execution_count": 42,
   "metadata": {},
   "outputs": [
    {
     "name": "stdout",
     "output_type": "stream",
     "text": [
      "\n",
      "\n",
      "Data File: /RESULTS_N[256]_k0[1]_ALPHA[2.350]_BETA[0.000]_u0[RANDOM]/LCEData_ITERS[400000]_TRANS[0].h5\n",
      "\n"
     ]
    }
   ],
   "source": [
    "results_dir = \"/RESULTS_N[{}]_k0[{}]_ALPHA[{:0.3f}]_BETA[{:0.3f}]_u0[{}]\".format(N, k0, alpha, beta, u0)\n",
    "filename    = \"/LCEData_ITERS[{}]_TRANS[{}]\".format(iters, trans)\n",
    "\n",
    "######################\n",
    "##\tInput & Output Dir\n",
    "######################\n",
    "# input_dir  = \"/work/projects/TurbPhase/burgers_1d_code/Burgers_PO/Data/Output/LCE\"\n",
    "# output_dir = \"/work/projects/TurbPhase/burgers_1d_code/Burgers_PO/Data/Snapshots/TriadDynamics\" + filename\n",
    "input_dir  = \"/work/projects/TurbPhase/burgers_1d_code/Burgers_PO/Data/RESULTS\"\n",
    "output_dir = \"/work/projects/TurbPhase/burgers_1d_code/Burgers_PO/Data/RESULTS/\" + results_dir\n",
    "\n",
    "if os.path.isdir(output_dir) != True:\n",
    "    os.mkdir(output_dir)\n",
    "if os.path.isdir(output_dir + '/SNAPS') != True:\n",
    "    os.mkdir(output_dir + '/SNAPS')\n",
    "if os.path.isdir(output_dir + '/ORDER_SNAPS') != True:\n",
    "    os.mkdir(output_dir + '/ORDER_SNAPS')\n",
    "\n",
    "\n",
    "\n",
    "######################\n",
    "##\tRead in Input File\n",
    "######################\n",
    "# HDFfileData = h5py.File(input_dir + filename + '.h5', 'r')\n",
    "HDFfileData = h5py.File(input_dir + results_dir + filename + '.h5', 'r')\n",
    "\n",
    "# print input file name to screen\n",
    "# print(\"\\n\\nData File: %s.h5\\n\" % filename)\n",
    "print(\"\\n\\nData File: {}.h5\\n\".format(results_dir + filename))\n",
    "\n",
    "######################\n",
    "##\tRead in Datasets\n",
    "######################\n",
    "phases = HDFfileData['Phases'][:, :]\n",
    "time   = HDFfileData['Time'][:]\n",
    "amps   = HDFfileData['Amps'][:]\n"
   ]
  },
  {
   "cell_type": "code",
   "execution_count": 43,
   "metadata": {},
   "outputs": [
    {
     "name": "stdout",
     "output_type": "stream",
     "text": [
      "\n",
      "...Computing Triads...\n",
      "\n",
      "\n",
      "...Computing Scale Phase Order...\n",
      "\n",
      "(4001, 127)\n",
      "(4001, 127)\n"
     ]
    }
   ],
   "source": [
    "ntsteps = len(time);\n",
    "num_osc = phases.shape[1];\n",
    "N       = 2 * (num_osc - 1);\n",
    "kmin    = k0 + 1;\n",
    "kmax    = num_osc - 1;\n",
    "\n",
    "\n",
    "\n",
    "######################\n",
    "##\tTriad Data\n",
    "######################\n",
    "triads, R, Phi = compute_triads(phases, kmin, kmax)\n",
    "triads_exist   = 0\n",
    "\n",
    "R_k, Phi_k = compute_phase_order(phases, amps, kmin, kmax)\n",
    "\n",
    "print(R_k.shape)\n",
    "print(Phi_k.shape)"
   ]
  },
  {
   "cell_type": "code",
   "execution_count": 46,
   "metadata": {},
   "outputs": [
    {
     "data": {
      "image/png": "[encoded data removed]",
      "text/plain": [
       "<matplotlib.figure.Figure at 0x7faf3159f240>"
      ]
     },
     "metadata": {
      "needs_background": "light"
     },
     "output_type": "display_data"
    }
   ],
   "source": [
    "t = 3540\n",
    "scale = 5\n",
    "\n",
    "myvir   = cm.viridis(np.arange(255))\n",
    "norm    = mpl.colors.Normalize(vmin = kmin, vmax = kmax)\n",
    "my_mhsv = mpl.colors.LinearSegmentedColormap.from_list('my_map', myvir, N = (kmax - k0)) # set N to inertial range\n",
    "m       = cm.ScalarMappable(norm = norm, cmap = my_mhsv)       \n",
    "\n",
    "\n",
    "r    = 1\n",
    "thet = np.linspace(0.0, 2.0*np.pi, 100)\n",
    "\n",
    "fig = plt.figure(figsize = (20, 10), tight_layout = False)\n",
    "gs  = GridSpec(1, 2)\n",
    "\n",
    "## REAL SPACE\n",
    "ax1 = fig.add_subplot(gs[0, 0])\n",
    "ax1.plot(r * np.cos(thet), r * np.sin(thet), '--', color = 'black')\n",
    "ax1.scatter(R_k[t, :] * np.cos(Phi_k[t, :]), R_k[t, :] * np.sin(Phi_k[t, :]),c = np.arange(len(R_k[t, :])), s = scale, cmap = my_mhsv)\n",
    "ax1.set_xlim(-1, 1)\n",
    "ax1.set_ylim(-1, 1)\n",
    "ax1.set_xlabel(r\"$\\Re\\left[R_{k} e^{\\mathrm{i} \\Phi_{k}}\\right]$\")\n",
    "ax1.set_ylabel(r\"$\\Im\\left[R_{k} e^{\\mathrm{i} \\Phi_{k}}\\right]$\")\n",
    "ax1.spines['top'].set_visible(False)\n",
    "ax1.spines['right'].set_visible(False)\n",
    "ax1.spines['bottom'].set_visible(False)\n",
    "ax1.spines['left'].set_visible(False)\n",
    "ax1.set_xticks([])\n",
    "ax1.set_yticks([])\n",
    "\n",
    "ax2 = fig.add_subplot(gs[0, 1])\n",
    "ax2.scatter(R_k[t, :] * np.cos(Phi_k[t, :]), R_k[t, :] * np.sin(Phi_k[t, :]),c = np.arange(len(R_k[t, :])), s = scale, cmap = my_mhsv)\n",
    "ax2.set_xlim(-1/50, 1/50)\n",
    "ax2.set_ylim(-1/50, 1/50)\n",
    "ax2.set_xlabel(r\"$\\Re\\left[R_{k} e^{\\mathrm{i} \\Phi_{k}}\\right]$\")\n",
    "ax2.set_ylabel(r\"$\\Im\\left[R_{k} e^{\\mathrm{i} \\Phi_{k}}\\right]$\")\n",
    "# ax2.spines['top'].set_visible(False)\n",
    "# ax2.spines['right'].set_visible(False)\n",
    "# ax2.spines['bottom'].set_visible(False)\n",
    "# ax2.spines['left'].set_visible(False)\n",
    "# ax2.set_xticks([])\n",
    "# ax2.set_yticks([])\n",
    "\n",
    "div2 = make_axes_locatable(ax2)\n",
    "cax2 = div2.append_axes('right', size = '5%', pad = 0.1)\n",
    "cbar2 = mpl.colorbar.ColorbarBase(cax2, cmap = my_mhsv, norm = norm)\n",
    "# cbar2.set_ticks([0.0, kmax/2, kmax])\n",
    "# cbar2.set_ticklabels([r\"$0$\", r\"$\\frac{\\pi}{2}$\", r\"$\\pi$\", r\"$\\frac{3\\pi}{2}$\", r\"$2\\pi$\"])\n",
    "plt.show()"
   ]
  },
  {
   "cell_type": "code",
   "execution_count": 47,
   "metadata": {},
   "outputs": [
    {
     "name": "stdout",
     "output_type": "stream",
     "text": [
      "[False False False False False False False False False False False False\n",
      " False False False False False False False False False False False False\n",
      " False False False False False False False False False False False False\n",
      " False False False False False False False False False False False False\n",
      " False False False False False False False False False False False False\n",
      " False False False False False False False False False False False False\n",
      " False False False False False False False False False False False False\n",
      " False False False False False False False False False False False False\n",
      " False False False False False False False False False False False False\n",
      " False False False False False False False False False False False False\n",
      " False False False False False False False]\n"
     ]
    }
   ],
   "source": [
    "print(R_k[t, :] == 2.06835783e-02)"
   ]
  },
  {
   "cell_type": "code",
   "execution_count": 48,
   "metadata": {},
   "outputs": [
    {
     "data": {
      "text/plain": [
       "2.35"
      ]
     },
     "execution_count": 48,
     "metadata": {},
     "output_type": "execute_result"
    }
   ],
   "source": [
    "alpha"
   ]
  },
  {
   "cell_type": "code",
   "execution_count": 17,
   "metadata": {},
   "outputs": [
    {
     "data": {
      "text/plain": [
       "127"
      ]
     },
     "execution_count": 17,
     "metadata": {},
     "output_type": "execute_result"
    }
   ],
   "source": [
    "kmax - k0\n"
   ]
  },
  {
   "cell_type": "code",
   "execution_count": 78,
   "metadata": {},
   "outputs": [],
   "source": [
    "aa = np.arange(0.0, 3.5, 0.05)"
   ]
  },
  {
   "cell_type": "code",
   "execution_count": 51,
   "metadata": {},
   "outputs": [
    {
     "data": {
      "text/plain": [
       "array([0.25])"
      ]
     },
     "execution_count": 51,
     "metadata": {},
     "output_type": "execute_result"
    }
   ],
   "source": [
    "aa[aa == .25]"
   ]
  },
  {
   "cell_type": "code",
   "execution_count": 52,
   "metadata": {},
   "outputs": [
    {
     "data": {
      "text/plain": [
       "0.2"
      ]
     },
     "execution_count": 52,
     "metadata": {},
     "output_type": "execute_result"
    }
   ],
   "source": [
    "aa[4]"
   ]
  },
  {
   "cell_type": "code",
   "execution_count": 54,
   "metadata": {},
   "outputs": [
    {
     "data": {
      "text/plain": [
       "array([0.25])"
      ]
     },
     "execution_count": 54,
     "metadata": {},
     "output_type": "execute_result"
    }
   ],
   "source": [
    "np.extract(aa == .25, aa)"
   ]
  },
  {
   "cell_type": "code",
   "execution_count": 55,
   "metadata": {},
   "outputs": [],
   "source": [
    "norm = mpl.colors.Normalize(vmin = np.array(alpha).min(), vmax = np.array(alpha).max())\n",
    "cmap = mpl.cm.ScalarMappable(norm = norm, cmap = mpl.cm.viridis)\n",
    "cmap.set_array([])"
   ]
  },
  {
   "cell_type": "code",
   "execution_count": 68,
   "metadata": {},
   "outputs": [
    {
     "data": {
      "text/plain": [
       "array([[0.267004, 0.004874, 0.329415, 1.      ]])"
      ]
     },
     "execution_count": 68,
     "metadata": {},
     "output_type": "execute_result"
    }
   ],
   "source": [
    "cmap.to_rgba()"
   ]
  },
  {
   "cell_type": "code",
   "execution_count": 62,
   "metadata": {},
   "outputs": [
    {
     "data": {
      "text/plain": [
       "tuple"
      ]
     },
     "execution_count": 62,
     "metadata": {},
     "output_type": "execute_result"
    }
   ],
   "source": [
    "type(cmap.to_rgba(aa[4]))"
   ]
  },
  {
   "cell_type": "code",
   "execution_count": 66,
   "metadata": {},
   "outputs": [
    {
     "data": {
      "text/plain": [
       "<map at 0x7faf3159f278>"
      ]
     },
     "execution_count": 66,
     "metadata": {},
     "output_type": "execute_result"
    }
   ],
   "source": [
    "map(tuple, cmap.to_rgba(np.extract(aa == .25, aa)))"
   ]
  },
  {
   "cell_type": "code",
   "execution_count": 69,
   "metadata": {},
   "outputs": [
    {
     "data": {
      "text/plain": [
       "(0.25,)"
      ]
     },
     "execution_count": 69,
     "metadata": {},
     "output_type": "execute_result"
    }
   ],
   "source": [
    "tuple(np.extract(aa == .25, aa))"
   ]
  },
  {
   "cell_type": "code",
   "execution_count": 71,
   "metadata": {},
   "outputs": [
    {
     "data": {
      "text/plain": [
       "array([[0.267004, 0.004874, 0.329415, 1.      ]])"
      ]
     },
     "execution_count": 71,
     "metadata": {},
     "output_type": "execute_result"
    }
   ],
   "source": [
    "cmap.to_rgba((0.25,))"
   ]
  },
  {
   "cell_type": "code",
   "execution_count": 74,
   "metadata": {},
   "outputs": [
    {
     "data": {
      "text/plain": [
       "0.25"
      ]
     },
     "execution_count": 74,
     "metadata": {},
     "output_type": "execute_result"
    }
   ],
   "source": [
    "np.extract(aa == .25, aa)[0]"
   ]
  },
  {
   "cell_type": "code",
   "execution_count": 77,
   "metadata": {},
   "outputs": [
    {
     "data": {
      "text/plain": [
       "0.25"
      ]
     },
     "execution_count": 77,
     "metadata": {},
     "output_type": "execute_result"
    }
   ],
   "source": [
    "aa[aa == 0.25][0]"
   ]
  },
  {
   "cell_type": "code",
   "execution_count": 91,
   "metadata": {},
   "outputs": [
    {
     "data": {
      "text/plain": [
       "array([1.  , 1.15, 1.3 , 1.45, 1.6 , 1.75, 1.9 , 2.05])"
      ]
     },
     "execution_count": 91,
     "metadata": {},
     "output_type": "execute_result"
    }
   ],
   "source": [
    "aa[x]"
   ]
  },
  {
   "cell_type": "code",
   "execution_count": 84,
   "metadata": {},
   "outputs": [
    {
     "data": {
      "text/plain": [
       "(19, 22, 25, 28, 31, 34, 37, 40)"
      ]
     },
     "execution_count": 84,
     "metadata": {},
     "output_type": "execute_result"
    }
   ],
   "source": [
    "tuple(range(19, 41, 3))"
   ]
  },
  {
   "cell_type": "code",
   "execution_count": 90,
   "metadata": {},
   "outputs": [
    {
     "data": {
      "text/plain": [
       "array([20, 23, 26, 29, 32, 35, 38, 41])"
      ]
     },
     "execution_count": 90,
     "metadata": {},
     "output_type": "execute_result"
    }
   ],
   "source": [
    "x = np.arange(20, 42, 3)\n",
    "x"
   ]
  },
  {
   "cell_type": "code",
   "execution_count": null,
   "metadata": {},
   "outputs": [],
   "source": []
  }
 ],
 "metadata": {
  "kernelspec": {
   "display_name": "Python 3",
   "language": "python",
   "name": "python3"
  },
  "language_info": {
   "codemirror_mode": {
    "name": "ipython",
    "version": 3
   },
   "file_extension": ".py",
   "mimetype": "text/x-python",
   "name": "python",
   "nbconvert_exporter": "python",
   "pygments_lexer": "ipython3",
   "version": "3.6.9"
  }
 },
 "nbformat": 4,
 "nbformat_minor": 4
}
