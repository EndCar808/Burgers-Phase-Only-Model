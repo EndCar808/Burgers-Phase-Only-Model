{
 "cells": [
  {
   "cell_type": "code",
   "execution_count": 1,
   "metadata": {},
   "outputs": [],
   "source": [
    "import numpy as np"
   ]
  },
  {
   "cell_type": "code",
   "execution_count": 6,
   "metadata": {},
   "outputs": [],
   "source": [
    "# @njit\n",
    "def amp_normalization(amps, n, k0):\n",
    "\n",
    "    ## Allocate array\n",
    "    norm = np.zeros((n, ))\n",
    "\n",
    "    ## Compute the normalization factor\n",
    "    for kk in range(0, n):\n",
    "        if kk <= k0:\n",
    "            norm[kk] = 0.0\n",
    "        else:\n",
    "            for k1 in range(-(n - 1) + kk, n):\n",
    "                norm[kk] += amps[np.absolute(k1)] * amps[np.absolute(kk - k1)]\n",
    "\n",
    "    return norm"
   ]
  },
  {
   "cell_type": "code",
   "execution_count": 16,
   "metadata": {},
   "outputs": [
    {
     "name": "stdout",
     "output_type": "stream",
     "text": [
      "[0.         0.         0.5        0.33333333 0.25       0.2\n",
      " 0.16666667 0.14285714 0.125     ]\n"
     ]
    }
   ],
   "source": [
    "N    = 16\n",
    "num_osc = int(N / 2 + 1)\n",
    "k0 = 1\n",
    "kmin = k0 + 1\n",
    "kmax = int(N / 2)\n",
    "a = 1.0\n",
    "\n",
    "\n",
    "kx = np.arange(num_osc)\n",
    "\n",
    "amp = np.zeros((num_osc, ))\n",
    "for i in range(num_osc):\n",
    "    if i <= k0:\n",
    "        amp[i] = 0.0\n",
    "    else:\n",
    "        amp[i] = 1 / (kx[i] ** a)\n",
    "\n",
    "print(amp)"
   ]
  },
  {
   "cell_type": "code",
   "execution_count": 29,
   "metadata": {},
   "outputs": [],
   "source": [
    "# conv_py = np.zeros((num_osc, ))\n",
    "# for i in range(len(amp)):\n",
    "conv_py = np.convolve(amp, amp, mode = 'same')\n",
    "    \n",
    "    \n",
    "conv = amp_normalization(amp, num_osc, k0)"
   ]
  },
  {
   "cell_type": "code",
   "execution_count": 30,
   "metadata": {},
   "outputs": [
    {
     "name": "stdout",
     "output_type": "stream",
     "text": [
      "[0.25       0.33333333 0.36111111 0.36666667 0.3625     0.35396825\n",
      " 0.34357143 0.22142857 0.14742063]\n",
      "[0.         0.         0.56547619 0.43253968 0.57440476 0.55952381\n",
      " 0.48611111 0.36666667 0.3625    ]\n"
     ]
    }
   ],
   "source": [
    "print(conv_py)\n",
    "\n",
    "print(conv)"
   ]
  },
  {
   "cell_type": "code",
   "execution_count": null,
   "metadata": {},
   "outputs": [],
   "source": []
  }
 ],
 "metadata": {
  "kernelspec": {
   "display_name": "Python 3",
   "language": "python",
   "name": "python3"
  },
  "language_info": {
   "codemirror_mode": {
    "name": "ipython",
    "version": 3
   },
   "file_extension": ".py",
   "mimetype": "text/x-python",
   "name": "python",
   "nbconvert_exporter": "python",
   "pygments_lexer": "ipython3",
   "version": "3.6.9"
  }
 },
 "nbformat": 4,
 "nbformat_minor": 4
}
