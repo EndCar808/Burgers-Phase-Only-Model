{
 "cells": [
  {
   "cell_type": "code",
   "execution_count": 160,
   "metadata": {},
   "outputs": [
    {
     "data": {
      "text/plain": [
       "'module://ipykernel.pylab.backend_inline'"
      ]
     },
     "execution_count": 160,
     "metadata": {},
     "output_type": "execute_result"
    }
   ],
   "source": [
    "######################\n",
    "##\tLibrary Imports\n",
    "######################\n",
    "%matplotlib inline\n",
    "import matplotlib as mpl\n",
    "# mpl.use('TkAgg') # Use this backend for displaying plots in window\n",
    "# mpl.use('Agg') # Use this backend for writing plots to file\n",
    "\n",
    "from mpl_toolkits.mplot3d import Axes3D\n",
    "import matplotlib.pyplot as plt\n",
    "# plt.style.use('seaborn-talk')\n",
    "mpl.rcParams['figure.figsize']    = [16, 9]\n",
    "# mpl.rcParams['figure.autolayout'] = True\n",
    "mpl.rcParams['text.usetex']       = True\n",
    "mpl.rcParams['font.family']       = 'serif'\n",
    "mpl.rcParams['font.size']         = 28\n",
    "mpl.rcParams['font.serif']        = 'Computer Modern Roman'\n",
    "mpl.rcParams['lines.linewidth']   = 1.25\n",
    "mpl.rcParams['lines.markersize']  = 6\n",
    "from mpl_toolkits.axes_grid1.inset_locator import inset_axes, mark_inset\n",
    "import h5py\n",
    "import sys\n",
    "import os\n",
    "import time as TIME\n",
    "import multiprocessing as mprocs\n",
    "from threading import Thread\n",
    "from subprocess import Popen, PIPE\n",
    "from mpl_toolkits.axes_grid1 import make_axes_locatable\n",
    "from itertools import zip_longest\n",
    "from matplotlib.gridspec import GridSpec\n",
    "from matplotlib.pyplot import cm \n",
    "import numpy as np\n",
    "from scipy.linalg import subspace_angles\n",
    "np.set_printoptions(threshold=sys.maxsize)\n",
    "from numba import njit, jit, prange\n",
    "import scipy.stats\n",
    "import itertools\n",
    "import pyfftw\n",
    "\n",
    "mpl.get_backend()"
   ]
  },
  {
   "cell_type": "code",
   "execution_count": 161,
   "metadata": {},
   "outputs": [],
   "source": [
    "# @njit\n",
    "def compute_second_moment(a_k, k0, N):\n",
    "\n",
    "    dx       = np.pi / N \n",
    "    kx       = np.arange(N + 1)\n",
    "    kx[:k0]  = 0.0\n",
    "    sec_mmnt = np.zeros((N))\n",
    "\n",
    "    for i in range(1, N + 1):\n",
    "        sec_mmnt[i - 1] = np.sum(a_k * (1.0 - np.cos( i * dx * kx)))\n",
    "\n",
    "    return sec_mmnt * (2 / N)\n"
   ]
  },
  {
   "cell_type": "code",
   "execution_count": 179,
   "metadata": {},
   "outputs": [],
   "source": [
    "def compute_grad(u_z, kmin, kmax):\n",
    "    print(\"\\nCreating Gradient\\n\")\n",
    "    k            = np.concatenate((np.zeros((kmin)), np.arange(kmin, kmax + 1), -np.flip(np.arange(kmin, kmax)), np.zeros((kmin - 1))))\n",
    "    print(k)\n",
    "    grad_u_z     = np.complex(0.0, 1.0) * k * u_z\n",
    "    du_x         = np.real(np.fft.ifft(grad_u_z, axis = 1))\n",
    "    du_x_rms_tmp = np.sqrt(np.mean(du_x ** 2, axis = 1))\n",
    "    du_x_rms     = np.array([du_x[i, :] / du_x_rms_tmp[i] for i in range(u_z.shape[0])])\n",
    "\n",
    "    return du_x , du_x_rms"
   ]
  },
  {
   "cell_type": "code",
   "execution_count": 172,
   "metadata": {},
   "outputs": [],
   "source": [
    "def compute_modes_real_space(amps, phases, N):\n",
    "    print(\"\\n...Creating Real Space Soln...\\n\")\n",
    "\n",
    "    # Create full set of amps and phases\n",
    "    amps_full   = np.append(amps[:], np.flipud(amps[1:-1]))\n",
    "    phases_full = np.concatenate((phases[:, :], -np.fliplr(phases[:, 1:-1])), axis = 1)\n",
    "\n",
    "    # Construct modes and realspace soln\n",
    "    u_z = amps_full * np.exp(np.complex(0.0, 1.0) * phases_full)\n",
    "    u   = np.real(np.fft.ifft(u_z, axis = 1))\n",
    "\n",
    "    return u, u_z\n",
    "\n",
    "@njit\n",
    "def compute_rms(u):\n",
    "    \n",
    "    # Compute normalized realspace soln\n",
    "    u_urms = np.zeros((u.shape[0], u.shape[1]))\n",
    "    u_rms  = np.zeros((u.shape[0]))\n",
    "    \n",
    "    for i in range(u.shape[0]):    \n",
    "        u_rms[i]     = np.sqrt(np.mean(u[i, :]**2))\n",
    "        u_urms[i, :] = u[i, :] / u_rms[i] \n",
    "    \n",
    "    return u_rms, u_urms"
   ]
  },
  {
   "cell_type": "code",
   "execution_count": 144,
   "metadata": {},
   "outputs": [],
   "source": [
    "u_rms, u_urms = compute_rms(u1)"
   ]
  },
  {
   "cell_type": "code",
   "execution_count": 130,
   "metadata": {},
   "outputs": [
    {
     "name": "stdout",
     "output_type": "stream",
     "text": [
      "(100000, 256)\n"
     ]
    }
   ],
   "source": [
    "amps_full   = np.append(amps[:], np.flipud(amps[1:-1]))\n",
    "phases_full = np.concatenate((phi[:, :], -np.fliplr(phi[:, 1:-1])), axis = 1)\n",
    "u_z         = amps_full * np.exp(np.complex(0.0, 1.0) * phases_full)\n",
    "u1 = np.real(np.fft.ifft(u_z, axis = 1))\n",
    "\n",
    "ifft_object = pyfftw.builders.ifft(u_z, axis = 1)\n",
    "print(u_z.shape)\n"
   ]
  },
  {
   "cell_type": "code",
   "execution_count": 173,
   "metadata": {},
   "outputs": [
    {
     "name": "stdout",
     "output_type": "stream",
     "text": [
      "\n",
      "...Creating Real Space Soln...\n",
      "\n"
     ]
    }
   ],
   "source": [
    "u, u_z = compute_modes_real_space(amps, phi, N)"
   ]
  },
  {
   "cell_type": "code",
   "execution_count": 180,
   "metadata": {},
   "outputs": [
    {
     "name": "stdout",
     "output_type": "stream",
     "text": [
      "\n",
      "Creating Gradient\n",
      "\n",
      "[  0.   0.   2.   3.   4.   5.   6.   7.   8.   9.  10.  11.  12.  13.\n",
      "  14.  15.  16. -15. -14. -13. -12. -11. -10.  -9.  -8.  -7.  -6.  -5.\n",
      "  -4.  -3.  -2.   0.]\n"
     ]
    }
   ],
   "source": [
    "u_grad, u_grad_rms = compute_grad(u_z, kmin, kmax)"
   ]
  },
  {
   "cell_type": "code",
   "execution_count": 181,
   "metadata": {},
   "outputs": [
    {
     "name": "stdout",
     "output_type": "stream",
     "text": [
      "[[ 0.01291813  0.02774035  0.03604304  0.02466386 -0.01145377]\n",
      " [ 0.01319727  0.0273702   0.03554656  0.02666054 -0.00952602]\n",
      " [ 0.01350029  0.02724711  0.03483836  0.02839881 -0.00733828]\n",
      " [ 0.01377999  0.02730652  0.03402566  0.02985904 -0.00496785]\n",
      " [ 0.01403367  0.02745073  0.03319426  0.03106977 -0.00248872]]\n",
      "[[ 0.        +0.j          0.        +0.j          0.44757284-0.22288687j\n",
      "  -0.32584592-0.07025345j  0.24809041-0.03084072j]\n",
      " [ 0.        +0.j          0.        +0.j          0.44545173-0.22709637j\n",
      "  -0.32623361-0.06843055j  0.24656638-0.04129192j]\n",
      " [ 0.        +0.j          0.        +0.j          0.44320761-0.2314455j\n",
      "  -0.3265469 -0.06691961j  0.24465196-0.05143361j]\n",
      " [ 0.        +0.j          0.        +0.j          0.44082476-0.2359524j\n",
      "  -0.32676316-0.06585553j  0.24240741-0.06114448j]\n",
      " [ 0.        +0.j          0.        +0.j          0.43828722-0.24063315j\n",
      "  -0.3268635 -0.06535565j  0.23990068-0.07033962j]]\n",
      "[[ 0.05943603  0.0671129   0.00894068 -0.13960206 -0.14561108]\n",
      " [ 0.0549793   0.0652      0.01297356 -0.12365497 -0.16669304]\n",
      " [ 0.0524705   0.06227572  0.01501219 -0.10646603 -0.18413852]\n",
      " [ 0.05106129  0.05921785  0.01521742 -0.08892966 -0.19757191]\n",
      " [ 0.04986876  0.05648948  0.01419665 -0.0718465  -0.20708513]]\n",
      "[[ 0.35334235  0.39898071  0.05315159 -0.82992285 -0.86564601]\n",
      " [ 0.3267851   0.38753475  0.07711203 -0.73497852 -0.99078749]\n",
      " [ 0.31181372  0.37008269  0.08921219 -0.63269016 -1.09427047]\n",
      " [ 0.30342023  0.35188874  0.09042612 -0.52844446 -1.17402661]\n",
      " [ 0.2963891   0.33573859  0.08437614 -0.42701119 -1.23078604]]\n"
     ]
    }
   ],
   "source": [
    "print(u[:5,:5])\n",
    "print(u_z[:5,:5])\n",
    "\n",
    "print(u_grad[:5, :5])\n",
    "print(u_grad_rms[:5, :5])\n"
   ]
  },
  {
   "cell_type": "code",
   "execution_count": 129,
   "metadata": {},
   "outputs": [
    {
     "name": "stdout",
     "output_type": "stream",
     "text": [
      "391 ms ± 3.63 ms per loop (mean ± std. dev. of 7 runs, 1 loop each)\n"
     ]
    }
   ],
   "source": [
    "%%timeit\n",
    "u1 = np.real(np.fft.ifft(u_z, axis = 1))"
   ]
  },
  {
   "cell_type": "code",
   "execution_count": 123,
   "metadata": {},
   "outputs": [
    {
     "name": "stdout",
     "output_type": "stream",
     "text": [
      "211 ms ± 4.79 ms per loop (mean ± std. dev. of 7 runs, 1 loop each)\n"
     ]
    }
   ],
   "source": [
    "%%timeit\n",
    "u2 = np.real(ifft_object(u_z))"
   ]
  },
  {
   "cell_type": "code",
   "execution_count": 121,
   "metadata": {},
   "outputs": [
    {
     "name": "stdout",
     "output_type": "stream",
     "text": [
      "True\n",
      "(100000, 256)\n",
      "(100000, 256)\n",
      "[[0.00671827 0.00632674 0.00725574 0.0065727  0.00618747]\n",
      " [0.00676016 0.00637061 0.00728078 0.00658767 0.00616107]\n",
      " [0.006804   0.00641805 0.00730297 0.0065965  0.00614201]\n",
      " [0.00684929 0.00646811 0.00732338 0.00659775 0.00613196]\n",
      " [0.00689554 0.00651952 0.00734298 0.00659085 0.00613178]]\n",
      "[[0.00671827 0.00632674 0.00725574 0.0065727  0.00618747]\n",
      " [0.00676016 0.00637061 0.00728078 0.00658767 0.00616107]\n",
      " [0.006804   0.00641805 0.00730297 0.0065965  0.00614201]\n",
      " [0.00684929 0.00646811 0.00732338 0.00659775 0.00613196]\n",
      " [0.00689554 0.00651952 0.00734298 0.00659085 0.00613178]]\n"
     ]
    }
   ],
   "source": [
    "u1 = np.real(np.fft.ifft(u_z, axis = 1))\n",
    "u2 = np.real(ifft_object(u_z))\n",
    "print(np.allclose(u1, u2))\n",
    "print(u1.shape)\n",
    "print(u2.shape)\n",
    "print(u1[:5, :5])\n",
    "print(u2[:5, :5])"
   ]
  },
  {
   "cell_type": "code",
   "execution_count": 100,
   "metadata": {},
   "outputs": [
    {
     "name": "stdout",
     "output_type": "stream",
     "text": [
      "5.22 s ± 16.4 ms per loop (mean ± std. dev. of 7 runs, 1 loop each)\n"
     ]
    }
   ],
   "source": [
    "%%timeit\n",
    "for i in range(phi.shape[0]):\n",
    "    amps_full   = np.append(amps[:], np.flipud(amps[1:-1]))\n",
    "    phases_full = np.append(phi[i, :], -np.flipud(phi[i, 1:-1]))\n",
    "    u_z         = amps_full * np.exp(np.complex(0.0, 1.0) * phases_full)\n",
    "    u1 = np.real(np.fft.ifft(u_z))"
   ]
  },
  {
   "cell_type": "code",
   "execution_count": 101,
   "metadata": {},
   "outputs": [
    {
     "name": "stdout",
     "output_type": "stream",
     "text": [
      "4.99 s ± 6.6 ms per loop (mean ± std. dev. of 7 runs, 1 loop each)\n"
     ]
    }
   ],
   "source": [
    "%%timeit\n",
    "for i in range(phi.shape[0]):\n",
    "    amps_full   = np.append(amps[:], np.flipud(amps[1:-1]))\n",
    "    phases_full = np.append(phi[i, :], -np.flipud(phi[i, 1:-1]))\n",
    "    u_z         = amps_full * np.exp(np.complex(0.0, 1.0) * phases_full)\n",
    "    u2 = np.real(ifft_object(u_z))"
   ]
  },
  {
   "cell_type": "code",
   "execution_count": 98,
   "metadata": {
    "collapsed": true,
    "jupyter": {
     "outputs_hidden": true
    }
   },
   "outputs": [
    {
     "name": "stdout",
     "output_type": "stream",
     "text": [
      "[ 6.71827168e-03  6.32673591e-03  7.25574259e-03  6.57270396e-03\n",
      "  6.18746592e-03  3.98479971e-03 -3.31277285e-03 -3.62868241e-03\n",
      " -6.65777766e-03 -7.87597700e-03 -7.43130150e-03 -7.62575280e-03\n",
      " -7.34528274e-03 -5.15658261e-03 -4.68972116e-03 -3.04698787e-03\n",
      " -5.58826532e-03 -6.21857697e-03 -6.31653538e-03 -6.21332965e-03\n",
      " -6.04398737e-03 -4.54285855e-03 -5.02382457e-03 -6.35109074e-03\n",
      " -7.04651900e-03 -7.47896094e-03 -7.29049649e-03 -4.64000912e-03\n",
      " -3.14162876e-03 -2.53348842e-03 -1.77442994e-03 -1.00340572e-04\n",
      " -1.27627042e-04  8.23314278e-04  5.66304718e-04  8.46912115e-04\n",
      "  1.10667158e-03  9.56761030e-04  2.06409461e-03  2.26230918e-03\n",
      "  8.69765126e-04  1.75405061e-03  2.19882723e-03  1.69249743e-03\n",
      "  1.77559432e-03  8.10989347e-04  1.27216080e-03 -2.43517917e-03\n",
      " -4.63715332e-03 -5.48645729e-03 -4.05208296e-03 -2.01516710e-03\n",
      " -1.13154721e-03 -1.29306866e-03 -2.91179774e-03 -2.51497233e-03\n",
      " -1.80208864e-03 -4.26120442e-04  1.29086985e-04 -8.79408163e-04\n",
      " -9.34236590e-04 -8.32092841e-04 -2.77405122e-04 -6.14616247e-04\n",
      " -1.90338140e-04  1.81838287e-03  1.90753312e-04 -2.71201826e-03\n",
      " -3.49027107e-03 -3.14607390e-03 -2.16712505e-03 -1.31251237e-03\n",
      " -3.13515311e-03 -2.24247278e-03 -2.30536666e-03 -2.53567182e-03\n",
      " -1.95032656e-03 -7.91257919e-04 -1.15738715e-03 -1.49310379e-03\n",
      " -1.11185747e-03 -1.69188396e-03 -7.53111589e-04 -1.37266222e-03\n",
      " -1.78173935e-03  3.05496881e-04 -2.40376151e-04 -1.10438561e-03\n",
      " -2.12169539e-03 -9.66396281e-04 -1.73601558e-04 -2.14303354e-04\n",
      "  2.20274758e-04 -1.20834594e-03 -2.81198678e-03 -3.58919815e-03\n",
      " -1.60550041e-03 -6.52244427e-04 -1.21677134e-03 -8.00877796e-04\n",
      " -7.66109215e-04 -5.54320694e-04 -7.72505628e-04  1.53695037e-06\n",
      "  1.40933803e-04  1.59179244e-03  2.67365151e-03  3.82522679e-03\n",
      "  4.26372577e-03  4.55235405e-03  4.15422220e-03  5.31418559e-03\n",
      "  4.98017114e-03  3.68514526e-03  2.11739485e-03  3.38998657e-03\n",
      "  3.85149244e-03  4.09020903e-03  2.85657395e-03  3.57325983e-03\n",
      "  3.40320260e-03  3.71650146e-03  5.00054623e-03  4.95821797e-03\n",
      "  5.07799084e-03  6.96749833e-03  7.79018078e-03  8.60722540e-03\n",
      "  7.91796743e-03  6.99942655e-03  6.70729585e-03  6.13069387e-03\n",
      "  6.48935461e-03  6.85176814e-03  7.84490347e-03  7.78774473e-03\n",
      "  6.89355934e-03  6.57048531e-03  7.27681041e-03  7.83204960e-03\n",
      "  7.04612299e-03  7.53610868e-03  7.11090409e-03  7.01857904e-03\n",
      "  6.68495294e-03  7.05932061e-03 -4.75612636e-03 -6.91726676e-03\n",
      " -5.38192363e-03 -7.05491923e-03 -6.79580510e-03 -6.66014656e-03\n",
      " -4.33321494e-03 -5.50117103e-03 -5.29002491e-03 -5.34595908e-03\n",
      " -4.16692036e-03 -5.37284769e-03 -5.92647197e-03 -6.03649738e-03\n",
      " -3.83228168e-03 -3.47667304e-03 -4.66565096e-03 -4.67955863e-03\n",
      " -4.55212013e-03 -3.96735837e-03 -3.21526184e-03 -6.30042826e-03\n",
      " -8.78356257e-03 -7.52893365e-03 -7.14993270e-03 -7.79053067e-03\n",
      " -7.34451319e-03 -6.91518393e-03 -6.82308238e-03 -6.13830902e-03\n",
      " -6.48774220e-03 -6.65407698e-03 -6.37034207e-03 -5.38524523e-03\n",
      " -5.01465896e-03 -5.47778876e-03 -5.08515636e-03 -5.08351336e-03\n",
      " -4.86872550e-03 -4.07305549e-03 -4.07470682e-03 -1.89255296e-03\n",
      " -1.03547678e-03 -9.54103478e-04 -1.04325712e-04 -1.97552067e-03\n",
      " -2.13123143e-03 -9.62940021e-04  6.83381087e-04  4.38409467e-04\n",
      " -1.36423558e-04 -1.96008705e-04 -6.66772958e-04  1.57583170e-04\n",
      "  1.55981351e-04  1.59437572e-04  5.75674460e-04 -1.94788257e-03\n",
      " -1.35653059e-03 -1.34474718e-03 -9.07796461e-04  3.73651686e-04\n",
      "  7.86892555e-04  1.52518991e-03  2.76810356e-03  3.21362045e-03\n",
      "  2.69618662e-03  2.83712349e-03  2.05443502e-03  1.59857496e-03\n",
      "  2.97582590e-03  3.33702244e-03  3.23125180e-03  2.17888501e-03\n",
      "  2.29941746e-03  2.66599850e-03  2.31390437e-03  1.79257648e-03\n",
      "  1.42031237e-03  2.37926133e-03  2.19249707e-03  2.19503254e-03\n",
      "  3.02053070e-03  3.62393042e-03  4.67539894e-03  3.91809443e-03\n",
      "  2.82922183e-03  2.94614683e-03  3.66442064e-03  3.00992613e-03\n",
      "  3.90716775e-03  4.22148830e-03  4.20134272e-03  2.55229841e-03\n",
      "  2.00427979e-03  2.77872074e-03  3.09774719e-03  2.97266347e-03\n",
      "  4.81326901e-03  6.44396533e-03  7.44625427e-03  7.29398469e-03\n",
      "  6.77519464e-03  5.65341285e-03  6.86022119e-03  7.66829814e-03\n",
      "  6.91711020e-03  6.34865617e-03  7.44194112e-03  7.33199710e-03]\n"
     ]
    }
   ],
   "source": [
    "u1 = np.real(np.fft.ifft(u_z))\n",
    "u2 = np.real(ifft_object(u_z))\n",
    "print(u2)"
   ]
  },
  {
   "cell_type": "code",
   "execution_count": 159,
   "metadata": {},
   "outputs": [
    {
     "name": "stdout",
     "output_type": "stream",
     "text": [
      "[ 0.01291813  0.02774035  0.03604304  0.02466386 -0.01145377  0.01020986\n",
      "  0.06096589 -0.02250596 -0.0403806  -0.04458713 -0.04289768 -0.03525941\n",
      " -0.02821348 -0.01968734  0.00897421  0.04115371  0.05553631  0.06610415\n",
      "  0.05417668  0.02512966 -0.0506571  -0.04010819 -0.04202787 -0.00083864\n",
      "  0.02380388 -0.01786454 -0.02265301 -0.0199686  -0.01528489 -0.01156664\n",
      "  0.00619123  0.01234389]\n",
      "[ 5.94360288e-02  6.71128971e-02  8.94067671e-03 -1.39602055e-01\n",
      " -1.45611080e-01  3.77860865e-01 -1.13389401e-01 -4.30267098e-01\n",
      "  1.13610686e-01 -1.23294754e-01  1.23992883e-01 -4.34594006e-02\n",
      "  1.09193578e-01  3.36691348e-03  2.71629534e-01  2.65167826e-02\n",
      "  1.53501871e-01 -8.91846337e-02  1.06073591e-02 -3.99093131e-01\n",
      " -1.60420740e-01  8.47802810e-02  1.57802871e-02  3.20375263e-01\n",
      " -1.32172200e-01 -1.53938456e-01  4.13381293e-02  1.18105094e-04\n",
      "  3.12758235e-02  3.65869617e-02  1.05738383e-01 -3.13303595e-02]\n"
     ]
    }
   ],
   "source": [
    "amps_full   = np.append(amps[:], np.flipud(amps[1:-1]))\n",
    "phases_full = np.append(phi[0, :], -np.flipud(phi[0, 1:-1]))\n",
    "u_z         = amps_full * np.exp(np.complex(0.0, 1.0) * phases_full)\n",
    "u1 = np.real(np.fft.ifft(u_z))\n",
    "\n",
    "k            = np.concatenate((np.zeros((kmin)), np.arange(kmin, kmax + 1), -np.flip(np.arange(kmin, kmax)), np.zeros((kmin - 1))))\n",
    "grad_u_z     = np.complex(0.0, 1.0) * k * u_z\n",
    "u_grad       = np.real(np.fft.ifft(grad_u_z))\n",
    "\n",
    "print(u1)\n",
    "print(u_grad)"
   ]
  },
  {
   "cell_type": "code",
   "execution_count": null,
   "metadata": {},
   "outputs": [],
   "source": [
    "# @jit(nopython = True)\n",
    "def compute_vel_inc(u, rlen):\n",
    "\n",
    "    # rList  = [int(r) for r in np.arange(1, kmax + 1, kmax/rlen)]\n",
    "    rList  = [1, kmax]\n",
    "    du_r   = np.zeros((u.shape[0], u.shape[1], rlen))\n",
    "\n",
    "    for r_indx, r in enumerate(rList):\n",
    "        for i in range(u.shape[0]):\n",
    "            for j in range(u.shape[1]):\n",
    "                    du_r[i, j, r_indx] = u[i, np.mod(j + r, u.shape[1])] - u[i, j]\n",
    "\n",
    "    return du_r, rList"
   ]
  },
  {
   "cell_type": "code",
   "execution_count": null,
   "metadata": {},
   "outputs": [],
   "source": [
    "# @jit(nopython = True)\n",
    "def compute_str_p(du_r, rlen):\n",
    "pList = [2, 3, 4, 5, 6]\n",
    "\n",
    "str_p     = np.zeros((len(pList), rlen))\n",
    "str_p_abs = np.zeros((len(pList), rlen))\n",
    "\n",
    "for r in range(rlen):\n",
    "    for i, p in enumerate(pList):\n",
    "        p_du_r          = du_r[:, :, r]**p\n",
    "        str_p[i, r]     = np.mean(p_du_r.flatten())\n",
    "        str_p_abs[i, r] = np.absolute(np.mean(p_du_r.flatten()))\n",
    "\n",
    "return str_p, str_p_abs"
   ]
  },
  {
   "cell_type": "code",
   "execution_count": 164,
   "metadata": {},
   "outputs": [],
   "source": [
    "#########################\n",
    "##  Get Input Parameters\n",
    "#########################\n",
    "k0    = 1\n",
    "alpha = 1.0\n",
    "beta  = 0.0\n",
    "iters = 10\n",
    "trans = 1000\n",
    "N     = 32\n",
    "u0    = \"RANDOM\"\n",
    "\n",
    "kmin = k0 + 1\n",
    "kmax = int(N / 2)\n",
    "\n",
    "filename = \"/RESULTS_N[{}]_k0[{}]_ALPHA[{:0.3f}]_BETA[{:0.3f}]_u0[{}]/SolverData_ITERS[{}]_TRANS[{}]\".format(N, k0, alpha, beta, u0, iters, trans)\n",
    "\n",
    "\n",
    "######################\n",
    "##  Input & Output Dir\n",
    "######################\n",
    "input_dir  = \"/work/projects/TurbPhase/burgers_1d_code/Burgers_PO/Data/RESULTS\"\n",
    "output_dir = \"/work/projects/TurbPhase/burgers_1d_code/Burgers_PO/Data/Snapshots/Stats\"\n"
   ]
  },
  {
   "cell_type": "code",
   "execution_count": 165,
   "metadata": {},
   "outputs": [
    {
     "name": "stdout",
     "output_type": "stream",
     "text": [
      "\n",
      "\n",
      "Data File: /RESULTS_N[32]_k0[1]_ALPHA[1.000]_BETA[0.000]_u0[RANDOM]/SolverData_ITERS[10]_TRANS[1000].h5\n",
      "\n"
     ]
    }
   ],
   "source": [
    "HDFfileData = h5py.File(input_dir + filename + '.h5', 'r')\n",
    "\n",
    "# print input file name to screen\n",
    "print(\"\\n\\nData File: %s.h5\\n\" % filename)"
   ]
  },
  {
   "cell_type": "code",
   "execution_count": 166,
   "metadata": {},
   "outputs": [],
   "source": [
    "# Read Velocity Incrments\n",
    "vel_inc_bincounts = np.zeros((2, 1000))\n",
    "vel_inc_binedges  = np.zeros((2, 1001))\n",
    "for i in range(2):\n",
    "    vel_inc_bincounts[i, :] = HDFfileData[\"VelInc[{}]_BinCounts\".format(i)][:]\n",
    "    vel_inc_binedges[i, :] = HDFfileData[\"VelInc[{}]_BinEdges\".format(i)][:]\n",
    "grad_bincounts = HDFfileData[\"VelGrad_BinCounts\"][:]\n",
    "grad_binedges  = HDFfileData[\"VelGrad_BinEdges\"][:]\n",
    "\n",
    "vel_inc_stats = HDFfileData[\"VelIncStats\"][:, :]\n",
    "\n",
    "# Read In Triad Stats\n",
    "Triad_Cent_R   = HDFfileData[\"TriadCentroid_R\"]\n",
    "Triad_Cent_Phi = HDFfileData[\"TriadCentroid_Phi\"]\n",
    "\n",
    "# Read Amps and Structure Functions\n",
    "amps     = HDFfileData[\"Amps\"][:]\n",
    "str_func = HDFfileData[\"StructureFuncs\"][:, :]\n",
    "\n",
    "phi = HDFfileData[\"Phases\"][:, :]\n",
    "\n",
    "# Close file when done\n",
    "HDFfileData.close()"
   ]
  },
  {
   "cell_type": "code",
   "execution_count": null,
   "metadata": {},
   "outputs": [],
   "source": [
    "## Plot Histogram of Vel Incrments\n",
    "plt.figure()\n",
    "for i in range(2):\n",
    "    bin_centers = (vel_inc_binedges[i, 1:] + vel_inc_binedges[i, :-1]) * 0.5\n",
    "    bin_width   = vel_inc_binedges[i, 1] - vel_inc_binedges[i, 0]\n",
    "    num_obs     = N * iters\n",
    "    plt.plot(bin_centers, vel_inc_bincounts[i] / (num_obs * bin_width))\n",
    "# bin_centers = (grad_binedges[1:] + grad_binedges[:-1]) * 0.5\n",
    "# plt.plot(bin_centers, grad_bincounts)\n",
    "plt.legend([r\"Smallest\", r\"Largest\", r\"Gradient\"])\n",
    "plt.yscale('symlog')\n",
    "plt.grid(True)\n",
    "\n",
    "plt.show()\n",
    "# plt.savefig(output_dir + \"/PDF_Vel_Incrments_N[{}]_k0[{}]_ALPHA[{:0.3f}]_BETA[{:0.3f}]_u0[{}]_ITERS[{}]_TRANS[{}].png\".format(N, k0, alpha, beta, u0, iters, trans), format='png', dpi = 400)  \n",
    "# plt.close()"
   ]
  },
  {
   "cell_type": "code",
   "execution_count": null,
   "metadata": {},
   "outputs": [],
   "source": [
    "## Plot triad centroid \n",
    "fig = plt.figure(figsize = (16, 9), tight_layout = True)\n",
    "gs  = GridSpec(1, 1)\n",
    "\n",
    "myjet   = cm.jet(np.arange(255))\n",
    "norm    = mpl.colors.Normalize(vmin = 0.0, vmax = 1.0)\n",
    "my_mjet = mpl.colors.LinearSegmentedColormap.from_list('my_map', myjet, N = kmax) # set N to inertial range\n",
    "my_m.set_under('1.0')\n",
    "m       = cm.ScalarMappable( norm = norm, cmap = my_mjet)     \n",
    "\n",
    "ax4  = fig.add_subplot(gs[0, 0])\n",
    "im   = ax4.imshow(np.transpose(Triad_Cent_R), cmap = my_mjet, norm = norm)\n",
    "kMax = kmax - kmin # Adjusted indices in triads matrix\n",
    "kMin = kmin - kmin # Adjusted indices in triads matrix\n",
    "ax4.set_xticks([kmin, int((kMax - kMin)/5), int(2 * (kMax - kMin)/5), int(3* (kMax - kMin)/5), int(4 * (kMax - kMin)/5), kMax])\n",
    "ax4.set_xticklabels([kmin, int((kmax - kmin)/5), int(2 * (kmax - kmin)/5), int(3* (kmax - kmin)/5), int(4 * (kmax - kmin)/5), kmax])\n",
    "ax4.set_yticks([kMin, int((kMax / 2 - kMin)/4), int(2 * (kMax / 2 - kMin)/4), int(3* (kMax / 2 - kMin)/4),  int((kmax)/ 2 - kmin)])\n",
    "ax4.set_yticklabels([kmin + kmin, int((kmax / 2 - kmin)/4) + kmin, int(2 * (kmax / 2 - kmin)/4) + kmin, int(3* (kmax / 2 - kmin)/4) + kmin,  int(kmax / 2)])\n",
    "ax4.set_xlabel(r'$k_3$', labelpad = 0)\n",
    "ax4.set_ylabel(r'$k_1$',  rotation = 0, labelpad = 10)\n",
    "ax4.set_xlim(left = kmin - 0.5)\n",
    "ax4.set_ylim(bottom = int((kmax)/ 2 - kmin) + 0.5)\n",
    "div4  = make_axes_locatable(ax4)\n",
    "cax4  = div4.append_axes('right', size = '5%', pad = 0.1)\n",
    "cbar4 = plt.colorbar(im, cax = cax4, orientation='vertical')\n",
    "cbar4.set_ticks([ 0.0, 0.5, 1])\n",
    "cbar4.set_ticklabels([r\"$0$\", r\"$0.5$\", r\"$1$\"])\n",
    "\n",
    "plt.show()\n",
    "# plt.savefig(output_dir + \"/Triad_Centroid_N[{}]_k0[{}]_ALPHA[{:0.3f}]_BETA[{:0.3f}]_u0[{}]_ITERS[{}]_TRANS[{}].png\".format(N, k0, alpha, beta, u0, iters, trans), format='png', dpi = 400)  \n",
    "# plt.close()"
   ]
  },
  {
   "cell_type": "code",
   "execution_count": 36,
   "metadata": {},
   "outputs": [
    {
     "name": "stdout",
     "output_type": "stream",
     "text": [
      "[0.         1.         0.5        0.33333333 0.25       0.2\n",
      " 0.16666667 0.14285714 0.125      0.11111111 0.1        0.09090909\n",
      " 0.08333333 0.07692308 0.07142857 0.06666667 0.0625     0.05882353\n",
      " 0.05555556 0.05263158 0.05       0.04761905 0.04545455 0.04347826\n",
      " 0.04166667 0.04       0.03846154 0.03703704 0.03571429 0.03448276\n",
      " 0.03333333 0.03225806 0.03125    0.03030303 0.02941176 0.02857143\n",
      " 0.02777778 0.02702703 0.02631579 0.02564103 0.025      0.02439024\n",
      " 0.02380952 0.02325581 0.02272727 0.02222222 0.02173913 0.0212766\n",
      " 0.02083333 0.02040816 0.02       0.01960784 0.01923077 0.01886792\n",
      " 0.01851852 0.01818182 0.01785714 0.01754386 0.01724138 0.01694915\n",
      " 0.01666667 0.01639344 0.01612903 0.01587302 0.015625   0.01538462\n",
      " 0.01515152 0.01492537 0.01470588 0.01449275 0.01428571 0.01408451\n",
      " 0.01388889 0.01369863 0.01351351 0.01333333 0.01315789 0.01298701\n",
      " 0.01282051 0.01265823 0.0125     0.01234568 0.01219512 0.01204819\n",
      " 0.01190476 0.01176471 0.01162791 0.01149425 0.01136364 0.01123596\n",
      " 0.01111111 0.01098901 0.01086957 0.01075269 0.0106383  0.01052632\n",
      " 0.01041667 0.01030928 0.01020408 0.01010101 0.01       0.00990099\n",
      " 0.00980392 0.00970874 0.00961538 0.00952381 0.00943396 0.00934579\n",
      " 0.00925926 0.00917431 0.00909091 0.00900901 0.00892857 0.00884956\n",
      " 0.00877193 0.00869565 0.00862069 0.00854701 0.00847458 0.00840336\n",
      " 0.00833333 0.00826446 0.00819672 0.00813008 0.00806452 0.008\n",
      " 0.00793651 0.00787402 0.0078125 ]\n",
      "0.02454369260617026\n",
      "[  0   0   2   3   4   5   6   7   8   9  10  11  12  13  14  15  16  17\n",
      "  18  19  20  21  22  23  24  25  26  27  28  29  30  31  32  33  34  35\n",
      "  36  37  38  39  40  41  42  43  44  45  46  47  48  49  50  51  52  53\n",
      "  54  55  56  57  58  59  60  61  62  63  64  65  66  67  68  69  70  71\n",
      "  72  73  74  75  76  77  78  79  80  81  82  83  84  85  86  87  88  89\n",
      "  90  91  92  93  94  95  96  97  98  99 100 101 102 103 104 105 106 107\n",
      " 108 109 110 111 112 113 114 115 116 117 118 119 120 121 122 123 124 125\n",
      " 126 127 128]\n",
      "[1.65575368 2.43634845 2.81480451 3.10913965 3.32707654 3.50474714\n",
      " 3.65766237 3.78213404 3.89939896 3.99305785 4.08754706 4.16087627\n",
      " 4.23938253 4.29813794 4.36468791 4.4123749  4.46955671 4.50847322\n",
      " 4.55805344 4.58979195 4.63303422 4.65874786 4.69659108 4.71714534\n",
      " 4.75030963 4.76637412 4.79542707 4.80753357 4.83293334 4.84151402\n",
      " 4.86363839 4.86905176 4.88821825 4.8907673  4.90724746 4.90719262\n",
      " 4.92122241 4.918791   4.93057843 4.92597169 4.93570257 4.92910092\n",
      " 4.93694322 4.92851033 4.93461754 4.92450343 4.92901719 4.91736063\n",
      " 4.92041275 4.90734321 4.9090573  4.89469643 4.89518919 4.879652\n",
      " 4.87903422 4.86243006 4.86080744 4.84324076 4.84071457 4.82228552\n",
      " 4.8189531  4.79975801 4.79571319 4.77584495 4.77117839 4.75072677\n",
      " 4.74552619 4.72457806 4.71892845 4.69756798 4.69155175 4.66986053\n",
      " 4.66355761 4.64161474 4.63510267 4.61298484 4.60633881 4.58412036\n",
      " 4.57741322 4.55516613 4.54846842 4.52626234 4.51964229 4.49754449\n",
      " 4.49106796 4.46914335 4.46287385 4.44118491 4.43518352 4.41379029\n",
      " 4.40811562 4.38707565 4.38178382 4.36115208 4.35629664 4.33612553\n",
      " 4.33175739 4.31209663 4.30826405 4.28916065 4.28590915 4.26740735\n",
      " 4.26477963 4.24692084 4.24495678 4.22777953 4.2265161  4.21005599\n",
      " 4.20952719 4.19381682 4.19405367 4.17912263 4.18015308 4.16602787\n",
      " 4.16787679 4.15458079 4.15726992 4.14482337 4.14837128 4.13679124\n",
      " 4.14121331 4.13051363 4.13582201 4.12601332 4.13221694 4.12330661\n",
      " 4.13041114 4.12240328]\n"
     ]
    }
   ],
   "source": [
    "amps = np.arange(0.0, n + 1)\n",
    "amps[1:] = 1/(amps[1:]**(alpha))\n",
    "n = int(N / 2)\n",
    "dx           = np.pi / n \n",
    "kx           = np.arange(n + 1)\n",
    "kx[:k0 + 1]  = 0.0\n",
    "sec_mmnt = np.zeros((n))\n",
    "\n",
    "for i in range(1, n + 1):\n",
    "    sec_mmnt[i - 1] = np.sum(amps * (1.0 - np.cos( i * dx * kx)))\n",
    "    \n",
    "print(sec_mmnt)"
   ]
  },
  {
   "cell_type": "code",
   "execution_count": 62,
   "metadata": {},
   "outputs": [
    {
     "name": "stdout",
     "output_type": "stream",
     "text": [
      "[0.02587115 0.03806794 0.04398132 0.04858031 0.05198557 0.05476167\n",
      " 0.05715097 0.05909584 0.06092811 0.06239153 0.06386792 0.06501369\n",
      " 0.06624035 0.06715841 0.06819825 0.06894336 0.06983682 0.07044489\n",
      " 0.07121958 0.0717155  0.07239116 0.07279294 0.07338424 0.0737054\n",
      " 0.07422359 0.0744746  0.07492855 0.07511771 0.07551458 0.07564866\n",
      " 0.07599435 0.07607893 0.07637841 0.07641824 0.07667574 0.07667488\n",
      " 0.0768941  0.07685611 0.07704029 0.07696831 0.07712035 0.0770172\n",
      " 0.07713974 0.07700797 0.0771034  0.07694537 0.07701589 0.07683376\n",
      " 0.07688145 0.07667724 0.07670402 0.07647963 0.07648733 0.07624456\n",
      " 0.07623491 0.07597547 0.07595012 0.07567564 0.07563617 0.07534821\n",
      " 0.07529614 0.07499622 0.07493302 0.07462258 0.07454966 0.07423011\n",
      " 0.07414885 0.07382153 0.07373326 0.0733995  0.0733055  0.07296657\n",
      " 0.07286809 0.07252523 0.07242348 0.07207789 0.07197404 0.07162688\n",
      " 0.07152208 0.07117447 0.07106982 0.07072285 0.07061941 0.07027413\n",
      " 0.07017294 0.06983036 0.0697324  0.06939351 0.06929974 0.06896547\n",
      " 0.06887681 0.06854806 0.06846537 0.068143   0.06806713 0.06775196\n",
      " 0.06768371 0.06737651 0.06731663 0.06701814 0.06696733 0.06667824\n",
      " 0.06663718 0.06635814 0.06632745 0.06605906 0.06603931 0.06578212\n",
      " 0.06577386 0.06552839 0.06553209 0.06529879 0.06531489 0.06509419\n",
      " 0.06512307 0.06491532 0.06495734 0.06476287 0.0648183  0.06463736\n",
      " 0.06470646 0.06453928 0.06462222 0.06446896 0.06456589 0.06442667\n",
      " 0.06453767 0.06441255]\n"
     ]
    },
    {
     "data": {
      "image/png": "[encoded data removed]",
      "text/plain": [
       "<matplotlib.figure.Figure at 0x7f973ca5ad30>"
      ]
     },
     "metadata": {
      "needs_background": "light"
     },
     "output_type": "display_data"
    }
   ],
   "source": [
    "## Plot structure functions\n",
    "r = np.arange(1, N/2 + 1)\n",
    "\n",
    "second_moment = compute_second_moment(amps, k0, int(N/2))\n",
    "print(second_moment)\n",
    "fig = plt.figure(figsize = (16, 9), tight_layout = True)\n",
    "gs  = GridSpec(1, 1)\n",
    "ax  = fig.add_subplot(gs[0, 0])\n",
    "for i in range(str_func.shape[0]):\n",
    "    ax.plot(r, str_func[i, :])\n",
    "ax.plot(r, second_moment[:], 'k--')\n",
    "ax.legend([r\"$p = {}$\".format(p) for p in range(2, 8 + 1)])\n",
    "ax.set_yscale('Log')\n",
    "ax.set_xscale('Log')\n",
    "ax.set_xlabel(r\"$r / L$\")\n",
    "ax.set_ylabel(r\"$S^{p}(r)$\")\n",
    "\n",
    "plt.show()\n",
    "# plt.savefig(output_dir + \"/Structure_Funcs_N[{}]_k0[{}]_ALPHA[{:0.3f}]_BETA[{:0.3f}]_u0[{}]_ITERS[{}]_TRANS[{}].png\".format(N, k0, alpha, beta, u0, iters, trans), format='png', dpi = 400)  \n",
    "# plt.close()"
   ]
  },
  {
   "cell_type": "code",
   "execution_count": 42,
   "metadata": {},
   "outputs": [
    {
     "data": {
      "text/plain": [
       "array([[0., 0., 0., 0.],\n",
       "       [0., 0., 0., 0.],\n",
       "       [0., 0., 0., 0.]])"
      ]
     },
     "execution_count": 42,
     "metadata": {},
     "output_type": "execute_result"
    }
   ],
   "source": [
    "vel_inc_stats"
   ]
  },
  {
   "cell_type": "code",
   "execution_count": null,
   "metadata": {},
   "outputs": [],
   "source": []
  }
 ],
 "metadata": {
  "kernelspec": {
   "display_name": "Python 3",
   "language": "python",
   "name": "python3"
  },
  "language_info": {
   "codemirror_mode": {
    "name": "ipython",
    "version": 3
   },
   "file_extension": ".py",
   "mimetype": "text/x-python",
   "name": "python",
   "nbconvert_exporter": "python",
   "pygments_lexer": "ipython3",
   "version": "3.6.9"
  }
 },
 "nbformat": 4,
 "nbformat_minor": 4
}
